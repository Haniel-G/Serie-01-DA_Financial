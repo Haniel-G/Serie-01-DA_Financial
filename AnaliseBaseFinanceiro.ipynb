{
 "cells": [
  {
   "cell_type": "markdown",
   "metadata": {},
   "source": [
    "# Preamble               \n"
   ]
  },
  {
   "cell_type": "code",
   "execution_count": 1,
   "metadata": {},
   "outputs": [
    {
     "name": "stdout",
     "output_type": "stream",
     "text": [
      "True\n"
     ]
    }
   ],
   "source": [
    "# Packages\n",
    "import pandas as pd\n",
    "import seaborn as srn\n",
    "import statistics as sts\n",
    "import os\n",
    "import shutil  \n",
    "\n",
    "# Checking if the data path exists \n",
    "file_path = '.\\\\BaseFinanceiro\\\\Financeiro.xlsx'\n",
    "print(os.path.exists(file_path))"
   ]
  },
  {
   "cell_type": "markdown",
   "metadata": {},
   "source": [
    "# **Checking the data base**\n"
   ]
  },
  {
   "cell_type": "code",
   "execution_count": 2,
   "metadata": {},
   "outputs": [
    {
     "name": "stdout",
     "output_type": "stream",
     "text": [
      "dict_keys(['Cliente', 'Fornecedor', 'Banco', 'Pagamentos', 'Recebimentos'])\n",
      "5\n"
     ]
    }
   ],
   "source": [
    "# Importing the entire dataset\n",
    "dataset = pd.read_excel(file_path, sheet_name=None)\n",
    "\n",
    "# Checking all sheets\n",
    "print(dataset.keys())\n",
    "print(len(dataset.keys()))  # 0-4"
   ]
  },
  {
   "cell_type": "code",
   "execution_count": 3,
   "metadata": {},
   "outputs": [],
   "source": [
    "# Defining variables for each sheet\n",
    "df_cliente = pd.read_excel(file_path, sheet_name=0)\n",
    "df_fornecedor = pd.read_excel(file_path, sheet_name=1)\n",
    "df_banco = pd.read_excel(file_path, sheet_name=2)\n",
    "df_pagamentos = pd.read_excel(file_path, sheet_name=3)\n",
    "df_recebimentos = pd.read_excel(file_path, sheet_name=4)\n",
    "\n",
    "## Verifying one variable at a time\n",
    "#df_cliente\n",
    "#df_fornecedor\n",
    "#df_banco\n",
    "#df_pagamentos\n",
    "#df_recebimentos"
   ]
  },
  {
   "cell_type": "code",
   "execution_count": 4,
   "metadata": {},
   "outputs": [
    {
     "name": "stdout",
     "output_type": "stream",
     "text": [
      "\n",
      "Dataset Information:\n",
      "<class 'pandas.core.frame.DataFrame'>\n",
      "RangeIndex: 812 entries, 0 to 811\n",
      "Data columns (total 6 columns):\n",
      " #   Column         Non-Null Count  Dtype \n",
      "---  ------         --------------  ----- \n",
      " 0   Id Cliente     812 non-null    int64 \n",
      " 1   Razao Social   812 non-null    object\n",
      " 2   Nome Fantasia  812 non-null    object\n",
      " 3   Tipo Pessoa    812 non-null    object\n",
      " 4   Municipio      812 non-null    object\n",
      " 5   UF             812 non-null    object\n",
      "dtypes: int64(1), object(5)\n",
      "memory usage: 38.2+ KB\n"
     ]
    }
   ],
   "source": [
    "## Summary of dataset information to understand columns, data types, and missing values\n",
    "print(\"\\nDataset Information:\")\n",
    "df_cliente.info()\n",
    "#df_banco.info()\n",
    "#df_fornecedor.info()   \n",
    "#df_recebimentos.info()\n",
    "#df_pagamentos.info()"
   ]
  },
  {
   "cell_type": "code",
   "execution_count": 5,
   "metadata": {},
   "outputs": [
    {
     "data": {
      "text/html": [
       "<div>\n",
       "<style scoped>\n",
       "    .dataframe tbody tr th:only-of-type {\n",
       "        vertical-align: middle;\n",
       "    }\n",
       "\n",
       "    .dataframe tbody tr th {\n",
       "        vertical-align: top;\n",
       "    }\n",
       "\n",
       "    .dataframe thead th {\n",
       "        text-align: right;\n",
       "    }\n",
       "</style>\n",
       "<table border=\"1\" class=\"dataframe\">\n",
       "  <thead>\n",
       "    <tr style=\"text-align: right;\">\n",
       "      <th></th>\n",
       "      <th>Date</th>\n",
       "      <th>Year</th>\n",
       "      <th>Month</th>\n",
       "      <th>Day</th>\n",
       "      <th>Year_Month</th>\n",
       "    </tr>\n",
       "  </thead>\n",
       "  <tbody>\n",
       "    <tr>\n",
       "      <th>0</th>\n",
       "      <td>2000-01-01</td>\n",
       "      <td>2000</td>\n",
       "      <td>1</td>\n",
       "      <td>1</td>\n",
       "      <td>2000-01</td>\n",
       "    </tr>\n",
       "    <tr>\n",
       "      <th>1</th>\n",
       "      <td>2000-01-02</td>\n",
       "      <td>2000</td>\n",
       "      <td>1</td>\n",
       "      <td>2</td>\n",
       "      <td>2000-01</td>\n",
       "    </tr>\n",
       "    <tr>\n",
       "      <th>2</th>\n",
       "      <td>2000-01-03</td>\n",
       "      <td>2000</td>\n",
       "      <td>1</td>\n",
       "      <td>3</td>\n",
       "      <td>2000-01</td>\n",
       "    </tr>\n",
       "    <tr>\n",
       "      <th>3</th>\n",
       "      <td>2000-01-04</td>\n",
       "      <td>2000</td>\n",
       "      <td>1</td>\n",
       "      <td>4</td>\n",
       "      <td>2000-01</td>\n",
       "    </tr>\n",
       "    <tr>\n",
       "      <th>4</th>\n",
       "      <td>2000-01-05</td>\n",
       "      <td>2000</td>\n",
       "      <td>1</td>\n",
       "      <td>5</td>\n",
       "      <td>2000-01</td>\n",
       "    </tr>\n",
       "  </tbody>\n",
       "</table>\n",
       "</div>"
      ],
      "text/plain": [
       "        Date  Year  Month  Day Year_Month\n",
       "0 2000-01-01  2000      1    1    2000-01\n",
       "1 2000-01-02  2000      1    2    2000-01\n",
       "2 2000-01-03  2000      1    3    2000-01\n",
       "3 2000-01-04  2000      1    4    2000-01\n",
       "4 2000-01-05  2000      1    5    2000-01"
      ]
     },
     "execution_count": 5,
     "metadata": {},
     "output_type": "execute_result"
    }
   ],
   "source": [
    "# Creating a calendar\n",
    "start_date = pd.Timestamp('2000-01-01')  # Fixed start date\n",
    "end_date = pd.Timestamp.today()  # End date as the current date\n",
    "\n",
    "calendar = pd.DataFrame({\n",
    "    'Date': pd.date_range(start=start_date, end=end_date, freq='D')  # Daily frequency\n",
    "})\n",
    "\n",
    "# Adding columns for Year, Month, Day, and Year_Month\n",
    "calendar['Year'] = calendar['Date'].dt.year\n",
    "calendar['Month'] = calendar['Date'].dt.month\n",
    "calendar['Day'] = calendar['Date'].dt.day\n",
    "calendar['Year_Month'] = calendar['Date'].dt.to_period('M')\n",
    "\n",
    "# Displaying the first few rows of the calendar\n",
    "calendar.head()\n",
    "\n",
    "# Saving the calendar base to Excel (optional)\n",
    "# output_path = './Base_Calendario.xlsx'\n",
    "# calendar.to_excel(output_path, index=False)\n",
    "# print(f\"Calendar base saved at: {output_path}\")\n"
   ]
  },
  {
   "cell_type": "markdown",
   "metadata": {},
   "source": [
    "-----------------------------------------\n",
    "*DATA EXPLORATION AND PROCESSING*\n",
    "-----------------------------------------"
   ]
  },
  {
   "cell_type": "code",
   "execution_count": 6,
   "metadata": {},
   "outputs": [
    {
     "data": {
      "text/plain": [
       "dict_keys(['Cliente', 'Fornecedor', 'Banco', 'Pagamentos', 'Recebimentos'])"
      ]
     },
     "execution_count": 6,
     "metadata": {},
     "output_type": "execute_result"
    }
   ],
   "source": [
    "dataset.keys()"
   ]
  },
  {
   "cell_type": "markdown",
   "metadata": {},
   "source": [
    "# **Data Exploration**"
   ]
  },
  {
   "cell_type": "markdown",
   "metadata": {},
   "source": [
    "## 1. Numerical Data"
   ]
  },
  {
   "cell_type": "markdown",
   "metadata": {},
   "source": [
    "### 1.1 Recebimentos (Receipts)"
   ]
  },
  {
   "cell_type": "code",
   "execution_count": 7,
   "metadata": {},
   "outputs": [
    {
     "data": {
      "text/html": [
       "<div>\n",
       "<style scoped>\n",
       "    .dataframe tbody tr th:only-of-type {\n",
       "        vertical-align: middle;\n",
       "    }\n",
       "\n",
       "    .dataframe tbody tr th {\n",
       "        vertical-align: top;\n",
       "    }\n",
       "\n",
       "    .dataframe thead th {\n",
       "        text-align: right;\n",
       "    }\n",
       "</style>\n",
       "<table border=\"1\" class=\"dataframe\">\n",
       "  <thead>\n",
       "    <tr style=\"text-align: right;\">\n",
       "      <th></th>\n",
       "      <th>Id Cliente</th>\n",
       "      <th>Id Conta Bancária</th>\n",
       "      <th>Data de Emissao</th>\n",
       "      <th>Data de Vencimento</th>\n",
       "      <th>Data da Movimentação</th>\n",
       "      <th>Valor da Movimentação</th>\n",
       "    </tr>\n",
       "  </thead>\n",
       "  <tbody>\n",
       "    <tr>\n",
       "      <th>0</th>\n",
       "      <td>53</td>\n",
       "      <td>x 10859524552-06</td>\n",
       "      <td>2018-01-02</td>\n",
       "      <td>2018-01-02</td>\n",
       "      <td>2018-01-02</td>\n",
       "      <td>675.870</td>\n",
       "    </tr>\n",
       "    <tr>\n",
       "      <th>1</th>\n",
       "      <td>178</td>\n",
       "      <td>x 39315597929-00</td>\n",
       "      <td>2018-01-04</td>\n",
       "      <td>2018-01-04</td>\n",
       "      <td>2018-01-04</td>\n",
       "      <td>153538.560</td>\n",
       "    </tr>\n",
       "    <tr>\n",
       "      <th>2</th>\n",
       "      <td>178</td>\n",
       "      <td>x 41541621975-04</td>\n",
       "      <td>2018-01-05</td>\n",
       "      <td>2018-01-05</td>\n",
       "      <td>2018-01-05</td>\n",
       "      <td>29823.060</td>\n",
       "    </tr>\n",
       "    <tr>\n",
       "      <th>3</th>\n",
       "      <td>178</td>\n",
       "      <td>x 63718177635-06</td>\n",
       "      <td>2018-01-06</td>\n",
       "      <td>2018-01-06</td>\n",
       "      <td>2018-01-06</td>\n",
       "      <td>52492.860</td>\n",
       "    </tr>\n",
       "    <tr>\n",
       "      <th>4</th>\n",
       "      <td>178</td>\n",
       "      <td>x 80771218846-00</td>\n",
       "      <td>2018-01-06</td>\n",
       "      <td>2018-01-06</td>\n",
       "      <td>2018-01-06</td>\n",
       "      <td>29336.040</td>\n",
       "    </tr>\n",
       "    <tr>\n",
       "      <th>...</th>\n",
       "      <td>...</td>\n",
       "      <td>...</td>\n",
       "      <td>...</td>\n",
       "      <td>...</td>\n",
       "      <td>...</td>\n",
       "      <td>...</td>\n",
       "    </tr>\n",
       "    <tr>\n",
       "      <th>1716</th>\n",
       "      <td>180</td>\n",
       "      <td>x 95230728368-03</td>\n",
       "      <td>2019-12-21</td>\n",
       "      <td>2019-12-28</td>\n",
       "      <td>2019-12-28</td>\n",
       "      <td>146192.530</td>\n",
       "    </tr>\n",
       "    <tr>\n",
       "      <th>1717</th>\n",
       "      <td>180</td>\n",
       "      <td>x 75664985359-06</td>\n",
       "      <td>2019-12-21</td>\n",
       "      <td>2019-12-28</td>\n",
       "      <td>2019-12-28</td>\n",
       "      <td>133024.720</td>\n",
       "    </tr>\n",
       "    <tr>\n",
       "      <th>1718</th>\n",
       "      <td>285</td>\n",
       "      <td>x 32439935907-10</td>\n",
       "      <td>2019-11-30</td>\n",
       "      <td>2019-12-28</td>\n",
       "      <td>2019-12-28</td>\n",
       "      <td>2280.920</td>\n",
       "    </tr>\n",
       "    <tr>\n",
       "      <th>1719</th>\n",
       "      <td>286</td>\n",
       "      <td>x 80771218846-00</td>\n",
       "      <td>2019-11-30</td>\n",
       "      <td>2019-12-28</td>\n",
       "      <td>2019-12-28</td>\n",
       "      <td>6015.550</td>\n",
       "    </tr>\n",
       "    <tr>\n",
       "      <th>1720</th>\n",
       "      <td>458</td>\n",
       "      <td>x 80771218846-00</td>\n",
       "      <td>2019-09-29</td>\n",
       "      <td>2019-12-26</td>\n",
       "      <td>2019-12-28</td>\n",
       "      <td>7413.003</td>\n",
       "    </tr>\n",
       "  </tbody>\n",
       "</table>\n",
       "<p>1721 rows × 6 columns</p>\n",
       "</div>"
      ],
      "text/plain": [
       "      Id Cliente Id Conta Bancária Data de Emissao Data de Vencimento  \\\n",
       "0             53  x 10859524552-06      2018-01-02         2018-01-02   \n",
       "1            178  x 39315597929-00      2018-01-04         2018-01-04   \n",
       "2            178  x 41541621975-04      2018-01-05         2018-01-05   \n",
       "3            178  x 63718177635-06      2018-01-06         2018-01-06   \n",
       "4            178  x 80771218846-00      2018-01-06         2018-01-06   \n",
       "...          ...               ...             ...                ...   \n",
       "1716         180  x 95230728368-03      2019-12-21         2019-12-28   \n",
       "1717         180  x 75664985359-06      2019-12-21         2019-12-28   \n",
       "1718         285  x 32439935907-10      2019-11-30         2019-12-28   \n",
       "1719         286  x 80771218846-00      2019-11-30         2019-12-28   \n",
       "1720         458  x 80771218846-00      2019-09-29         2019-12-26   \n",
       "\n",
       "     Data da Movimentação  Valor da Movimentação  \n",
       "0              2018-01-02                675.870  \n",
       "1              2018-01-04             153538.560  \n",
       "2              2018-01-05              29823.060  \n",
       "3              2018-01-06              52492.860  \n",
       "4              2018-01-06              29336.040  \n",
       "...                   ...                    ...  \n",
       "1716           2019-12-28             146192.530  \n",
       "1717           2019-12-28             133024.720  \n",
       "1718           2019-12-28               2280.920  \n",
       "1719           2019-12-28               6015.550  \n",
       "1720           2019-12-28               7413.003  \n",
       "\n",
       "[1721 rows x 6 columns]"
      ]
     },
     "execution_count": 7,
     "metadata": {},
     "output_type": "execute_result"
    }
   ],
   "source": [
    "# Checking the dataset\n",
    "df_recebimentos"
   ]
  },
  {
   "cell_type": "code",
   "execution_count": 8,
   "metadata": {},
   "outputs": [
    {
     "data": {
      "text/plain": [
       "Id Cliente               0\n",
       "Id Conta Bancária        0\n",
       "Data de Emissao          0\n",
       "Data de Vencimento       0\n",
       "Data da Movimentação     0\n",
       "Valor da Movimentação    0\n",
       "dtype: int64"
      ]
     },
     "execution_count": 8,
     "metadata": {},
     "output_type": "execute_result"
    }
   ],
   "source": [
    "# Checking for null values\n",
    "df_recebimentos.isnull().sum()"
   ]
  },
  {
   "cell_type": "code",
   "execution_count": 9,
   "metadata": {},
   "outputs": [],
   "source": [
    "# Copying the DataFrame for formatted display\n",
    "df_recebimentos_display = df_recebimentos.copy()\n",
    "\n",
    "# Formatting the values in the copy\n",
    "df_recebimentos_display['Valor da Movimentação'] = df_recebimentos_display['Valor da Movimentação'].map(\n",
    "    lambda x: f\"R$ {x:,.2f}\".replace(',', 'X').replace('.', ',').replace('X', '.')\n",
    ")"
   ]
  },
  {
   "cell_type": "code",
   "execution_count": 10,
   "metadata": {},
   "outputs": [
    {
     "data": {
      "text/html": [
       "<div>\n",
       "<style scoped>\n",
       "    .dataframe tbody tr th:only-of-type {\n",
       "        vertical-align: middle;\n",
       "    }\n",
       "\n",
       "    .dataframe tbody tr th {\n",
       "        vertical-align: top;\n",
       "    }\n",
       "\n",
       "    .dataframe thead th {\n",
       "        text-align: right;\n",
       "    }\n",
       "</style>\n",
       "<table border=\"1\" class=\"dataframe\">\n",
       "  <thead>\n",
       "    <tr style=\"text-align: right;\">\n",
       "      <th></th>\n",
       "      <th>Id Cliente</th>\n",
       "      <th>Id Conta Bancária</th>\n",
       "      <th>Data de Emissao</th>\n",
       "      <th>Data de Vencimento</th>\n",
       "      <th>Data da Movimentação</th>\n",
       "      <th>Valor da Movimentação</th>\n",
       "    </tr>\n",
       "  </thead>\n",
       "  <tbody>\n",
       "    <tr>\n",
       "      <th>0</th>\n",
       "      <td>53</td>\n",
       "      <td>x 10859524552-06</td>\n",
       "      <td>2018-01-02</td>\n",
       "      <td>2018-01-02</td>\n",
       "      <td>2018-01-02</td>\n",
       "      <td>R$ 675,87</td>\n",
       "    </tr>\n",
       "    <tr>\n",
       "      <th>1</th>\n",
       "      <td>178</td>\n",
       "      <td>x 39315597929-00</td>\n",
       "      <td>2018-01-04</td>\n",
       "      <td>2018-01-04</td>\n",
       "      <td>2018-01-04</td>\n",
       "      <td>R$ 153.538,56</td>\n",
       "    </tr>\n",
       "    <tr>\n",
       "      <th>2</th>\n",
       "      <td>178</td>\n",
       "      <td>x 41541621975-04</td>\n",
       "      <td>2018-01-05</td>\n",
       "      <td>2018-01-05</td>\n",
       "      <td>2018-01-05</td>\n",
       "      <td>R$ 29.823,06</td>\n",
       "    </tr>\n",
       "    <tr>\n",
       "      <th>3</th>\n",
       "      <td>178</td>\n",
       "      <td>x 63718177635-06</td>\n",
       "      <td>2018-01-06</td>\n",
       "      <td>2018-01-06</td>\n",
       "      <td>2018-01-06</td>\n",
       "      <td>R$ 52.492,86</td>\n",
       "    </tr>\n",
       "    <tr>\n",
       "      <th>4</th>\n",
       "      <td>178</td>\n",
       "      <td>x 80771218846-00</td>\n",
       "      <td>2018-01-06</td>\n",
       "      <td>2018-01-06</td>\n",
       "      <td>2018-01-06</td>\n",
       "      <td>R$ 29.336,04</td>\n",
       "    </tr>\n",
       "    <tr>\n",
       "      <th>...</th>\n",
       "      <td>...</td>\n",
       "      <td>...</td>\n",
       "      <td>...</td>\n",
       "      <td>...</td>\n",
       "      <td>...</td>\n",
       "      <td>...</td>\n",
       "    </tr>\n",
       "    <tr>\n",
       "      <th>1716</th>\n",
       "      <td>180</td>\n",
       "      <td>x 95230728368-03</td>\n",
       "      <td>2019-12-21</td>\n",
       "      <td>2019-12-28</td>\n",
       "      <td>2019-12-28</td>\n",
       "      <td>R$ 146.192,53</td>\n",
       "    </tr>\n",
       "    <tr>\n",
       "      <th>1717</th>\n",
       "      <td>180</td>\n",
       "      <td>x 75664985359-06</td>\n",
       "      <td>2019-12-21</td>\n",
       "      <td>2019-12-28</td>\n",
       "      <td>2019-12-28</td>\n",
       "      <td>R$ 133.024,72</td>\n",
       "    </tr>\n",
       "    <tr>\n",
       "      <th>1718</th>\n",
       "      <td>285</td>\n",
       "      <td>x 32439935907-10</td>\n",
       "      <td>2019-11-30</td>\n",
       "      <td>2019-12-28</td>\n",
       "      <td>2019-12-28</td>\n",
       "      <td>R$ 2.280,92</td>\n",
       "    </tr>\n",
       "    <tr>\n",
       "      <th>1719</th>\n",
       "      <td>286</td>\n",
       "      <td>x 80771218846-00</td>\n",
       "      <td>2019-11-30</td>\n",
       "      <td>2019-12-28</td>\n",
       "      <td>2019-12-28</td>\n",
       "      <td>R$ 6.015,55</td>\n",
       "    </tr>\n",
       "    <tr>\n",
       "      <th>1720</th>\n",
       "      <td>458</td>\n",
       "      <td>x 80771218846-00</td>\n",
       "      <td>2019-09-29</td>\n",
       "      <td>2019-12-26</td>\n",
       "      <td>2019-12-28</td>\n",
       "      <td>R$ 7.413,00</td>\n",
       "    </tr>\n",
       "  </tbody>\n",
       "</table>\n",
       "<p>1721 rows × 6 columns</p>\n",
       "</div>"
      ],
      "text/plain": [
       "      Id Cliente Id Conta Bancária Data de Emissao Data de Vencimento  \\\n",
       "0             53  x 10859524552-06      2018-01-02         2018-01-02   \n",
       "1            178  x 39315597929-00      2018-01-04         2018-01-04   \n",
       "2            178  x 41541621975-04      2018-01-05         2018-01-05   \n",
       "3            178  x 63718177635-06      2018-01-06         2018-01-06   \n",
       "4            178  x 80771218846-00      2018-01-06         2018-01-06   \n",
       "...          ...               ...             ...                ...   \n",
       "1716         180  x 95230728368-03      2019-12-21         2019-12-28   \n",
       "1717         180  x 75664985359-06      2019-12-21         2019-12-28   \n",
       "1718         285  x 32439935907-10      2019-11-30         2019-12-28   \n",
       "1719         286  x 80771218846-00      2019-11-30         2019-12-28   \n",
       "1720         458  x 80771218846-00      2019-09-29         2019-12-26   \n",
       "\n",
       "     Data da Movimentação Valor da Movimentação  \n",
       "0              2018-01-02             R$ 675,87  \n",
       "1              2018-01-04         R$ 153.538,56  \n",
       "2              2018-01-05          R$ 29.823,06  \n",
       "3              2018-01-06          R$ 52.492,86  \n",
       "4              2018-01-06          R$ 29.336,04  \n",
       "...                   ...                   ...  \n",
       "1716           2019-12-28         R$ 146.192,53  \n",
       "1717           2019-12-28         R$ 133.024,72  \n",
       "1718           2019-12-28           R$ 2.280,92  \n",
       "1719           2019-12-28           R$ 6.015,55  \n",
       "1720           2019-12-28           R$ 7.413,00  \n",
       "\n",
       "[1721 rows x 6 columns]"
      ]
     },
     "execution_count": 10,
     "metadata": {},
     "output_type": "execute_result"
    }
   ],
   "source": [
    "# Converting dates\n",
    "columns_to_convert = df_recebimentos.columns[2:5]\n",
    "df_recebimentos[columns_to_convert] = df_recebimentos[columns_to_convert].apply(\n",
    "    pd.to_datetime, format='%d/%m/%Y', errors='coerce'\n",
    ")\n",
    "\n",
    "# Displaying the Receipts table\n",
    "df_recebimentos_display"
   ]
  },
  {
   "cell_type": "code",
   "execution_count": 11,
   "metadata": {},
   "outputs": [
    {
     "data": {
      "text/plain": [
       "Data de Emissao\n",
       "2018-01-02     1\n",
       "2018-01-04     4\n",
       "2018-01-05     6\n",
       "2018-01-06    14\n",
       "2018-01-09     3\n",
       "              ..\n",
       "2019-12-15     1\n",
       "2019-12-17     2\n",
       "2019-12-19     1\n",
       "2019-12-21     2\n",
       "2019-12-28     1\n",
       "Length: 324, dtype: int64"
      ]
     },
     "execution_count": 11,
     "metadata": {},
     "output_type": "execute_result"
    }
   ],
   "source": [
    "# Grouping by 'Issue Date' (uncomemment the variables to group by other columns)\n",
    "grouped = df_recebimentos.groupby(['Data de Emissao']).size()\n",
    "#grouped = df_recebimentos.groupby(['Data da Movimentação']).size()\n",
    "#grouped = df_recebimentos.groupby(['Data de Vencimento']).size()\n",
    "\n",
    "grouped"
   ]
  },
  {
   "cell_type": "code",
   "execution_count": 12,
   "metadata": {},
   "outputs": [
    {
     "name": "stdout",
     "output_type": "stream",
     "text": [
      "\n",
      "Descriptive statistics of numerical features:\n"
     ]
    },
    {
     "data": {
      "text/html": [
       "<div>\n",
       "<style scoped>\n",
       "    .dataframe tbody tr th:only-of-type {\n",
       "        vertical-align: middle;\n",
       "    }\n",
       "\n",
       "    .dataframe tbody tr th {\n",
       "        vertical-align: top;\n",
       "    }\n",
       "\n",
       "    .dataframe thead th {\n",
       "        text-align: right;\n",
       "    }\n",
       "</style>\n",
       "<table border=\"1\" class=\"dataframe\">\n",
       "  <thead>\n",
       "    <tr style=\"text-align: right;\">\n",
       "      <th></th>\n",
       "      <th>Id Cliente</th>\n",
       "      <th>Valor da Movimentação</th>\n",
       "    </tr>\n",
       "  </thead>\n",
       "  <tbody>\n",
       "    <tr>\n",
       "      <th>count</th>\n",
       "      <td>1721.000000</td>\n",
       "      <td>1721.000000</td>\n",
       "    </tr>\n",
       "    <tr>\n",
       "      <th>mean</th>\n",
       "      <td>324.345729</td>\n",
       "      <td>34499.364443</td>\n",
       "    </tr>\n",
       "    <tr>\n",
       "      <th>std</th>\n",
       "      <td>243.399107</td>\n",
       "      <td>51813.348938</td>\n",
       "    </tr>\n",
       "    <tr>\n",
       "      <th>min</th>\n",
       "      <td>46.000000</td>\n",
       "      <td>0.000000</td>\n",
       "    </tr>\n",
       "    <tr>\n",
       "      <th>25%</th>\n",
       "      <td>165.000000</td>\n",
       "      <td>4879.000000</td>\n",
       "    </tr>\n",
       "    <tr>\n",
       "      <th>50%</th>\n",
       "      <td>246.000000</td>\n",
       "      <td>10962.270000</td>\n",
       "    </tr>\n",
       "    <tr>\n",
       "      <th>75%</th>\n",
       "      <td>424.000000</td>\n",
       "      <td>25889.230000</td>\n",
       "    </tr>\n",
       "    <tr>\n",
       "      <th>max</th>\n",
       "      <td>792.000000</td>\n",
       "      <td>256906.120000</td>\n",
       "    </tr>\n",
       "  </tbody>\n",
       "</table>\n",
       "</div>"
      ],
      "text/plain": [
       "        Id Cliente  Valor da Movimentação\n",
       "count  1721.000000            1721.000000\n",
       "mean    324.345729           34499.364443\n",
       "std     243.399107           51813.348938\n",
       "min      46.000000               0.000000\n",
       "25%     165.000000            4879.000000\n",
       "50%     246.000000           10962.270000\n",
       "75%     424.000000           25889.230000\n",
       "max     792.000000          256906.120000"
      ]
     },
     "execution_count": 12,
     "metadata": {},
     "output_type": "execute_result"
    }
   ],
   "source": [
    "# Descriptive statistics of numerical features\n",
    "print('\\nDescriptive statistics of numerical features:')\n",
    "df_recebimentos[['Id Cliente', 'Valor da Movimentação']].describe()"
   ]
  },
  {
   "cell_type": "code",
   "execution_count": 13,
   "metadata": {},
   "outputs": [
    {
     "data": {
      "text/plain": [
       "Text(0.5, 1.0, 'Valor da Movimentação')"
      ]
     },
     "execution_count": 13,
     "metadata": {},
     "output_type": "execute_result"
    },
    {
     "data": {
      "image/png": "[encoded data removed]",
      "text/plain": [
       "<Figure size 640x480 with 1 Axes>"
      ]
     },
     "metadata": {},
     "output_type": "display_data"
    }
   ],
   "source": [
    "# Boxplot of Transaction Value\n",
    "srn.boxplot(df_recebimentos['Valor da Movimentação'], color='gray').set_title('Valor da Movimentação')"
   ]
  },
  {
   "cell_type": "code",
   "execution_count": 14,
   "metadata": {},
   "outputs": [
    {
     "data": {
      "text/plain": [
       "<Axes: xlabel='Valor da Movimentação', ylabel='Count'>"
      ]
     },
     "execution_count": 14,
     "metadata": {},
     "output_type": "execute_result"
    },
    {
     "data": {
      "image/png": "[encoded data removed]",
      "text/plain": [
       "<Figure size 640x480 with 1 Axes>"
      ]
     },
     "metadata": {},
     "output_type": "display_data"
    }
   ],
   "source": [
    "# Histogram of Transaction Value\n",
    "srn.histplot(df_recebimentos['Valor da Movimentação'])"
   ]
  },
  {
   "cell_type": "code",
   "execution_count": 15,
   "metadata": {},
   "outputs": [
    {
     "name": "stdout",
     "output_type": "stream",
     "text": [
      "IQR = 21010.23\n",
      "limite superior= 57404.575 e limite inferior = -26636.345.\n"
     ]
    }
   ],
   "source": [
    "# Calculating Q1, Q3, and IQR\n",
    "Q1 = df_recebimentos['Valor da Movimentação'].quantile(0.25) # First quartile \n",
    "Q3 = df_recebimentos['Valor da Movimentação'].quantile(0.75) # Third quartile\n",
    "\n",
    "IQR = Q3 - Q1 # Interquartile range \n",
    "print(f'IQR = {IQR}')\n",
    "\n",
    "# Defining limits for outliers\n",
    "upper_limit_1 = Q3 + 1.5 * IQR\n",
    "lower_limit_1 = Q1 - 1.5 * IQR\n",
    "\n",
    "print(f'limite superior= {upper_limit_1} e limite inferior = {lower_limit_1}.')"
   ]
  },
  {
   "cell_type": "code",
   "execution_count": 16,
   "metadata": {},
   "outputs": [
    {
     "data": {
      "text/html": [
       "<div>\n",
       "<style scoped>\n",
       "    .dataframe tbody tr th:only-of-type {\n",
       "        vertical-align: middle;\n",
       "    }\n",
       "\n",
       "    .dataframe tbody tr th {\n",
       "        vertical-align: top;\n",
       "    }\n",
       "\n",
       "    .dataframe thead th {\n",
       "        text-align: right;\n",
       "    }\n",
       "</style>\n",
       "<table border=\"1\" class=\"dataframe\">\n",
       "  <thead>\n",
       "    <tr style=\"text-align: right;\">\n",
       "      <th></th>\n",
       "      <th>Valor da Movimentação</th>\n",
       "      <th>Eh_outlier</th>\n",
       "    </tr>\n",
       "  </thead>\n",
       "  <tbody>\n",
       "    <tr>\n",
       "      <th>0</th>\n",
       "      <td>675.870</td>\n",
       "      <td>Não</td>\n",
       "    </tr>\n",
       "    <tr>\n",
       "      <th>1</th>\n",
       "      <td>153538.560</td>\n",
       "      <td>Sim</td>\n",
       "    </tr>\n",
       "    <tr>\n",
       "      <th>2</th>\n",
       "      <td>29823.060</td>\n",
       "      <td>Não</td>\n",
       "    </tr>\n",
       "    <tr>\n",
       "      <th>3</th>\n",
       "      <td>52492.860</td>\n",
       "      <td>Não</td>\n",
       "    </tr>\n",
       "    <tr>\n",
       "      <th>4</th>\n",
       "      <td>29336.040</td>\n",
       "      <td>Não</td>\n",
       "    </tr>\n",
       "    <tr>\n",
       "      <th>...</th>\n",
       "      <td>...</td>\n",
       "      <td>...</td>\n",
       "    </tr>\n",
       "    <tr>\n",
       "      <th>1716</th>\n",
       "      <td>146192.530</td>\n",
       "      <td>Sim</td>\n",
       "    </tr>\n",
       "    <tr>\n",
       "      <th>1717</th>\n",
       "      <td>133024.720</td>\n",
       "      <td>Sim</td>\n",
       "    </tr>\n",
       "    <tr>\n",
       "      <th>1718</th>\n",
       "      <td>2280.920</td>\n",
       "      <td>Não</td>\n",
       "    </tr>\n",
       "    <tr>\n",
       "      <th>1719</th>\n",
       "      <td>6015.550</td>\n",
       "      <td>Não</td>\n",
       "    </tr>\n",
       "    <tr>\n",
       "      <th>1720</th>\n",
       "      <td>7413.003</td>\n",
       "      <td>Não</td>\n",
       "    </tr>\n",
       "  </tbody>\n",
       "</table>\n",
       "<p>1721 rows × 2 columns</p>\n",
       "</div>"
      ],
      "text/plain": [
       "      Valor da Movimentação Eh_outlier\n",
       "0                   675.870        Não\n",
       "1                153538.560        Sim\n",
       "2                 29823.060        Não\n",
       "3                 52492.860        Não\n",
       "4                 29336.040        Não\n",
       "...                     ...        ...\n",
       "1716             146192.530        Sim\n",
       "1717             133024.720        Sim\n",
       "1718               2280.920        Não\n",
       "1719               6015.550        Não\n",
       "1720               7413.003        Não\n",
       "\n",
       "[1721 rows x 2 columns]"
      ]
     },
     "execution_count": 16,
     "metadata": {},
     "output_type": "execute_result"
    }
   ],
   "source": [
    "# Identifying outliers\n",
    "df_recebimentos['Eh_outlier'] = df_recebimentos['Valor da Movimentação'].apply(\n",
    "    lambda x: 'Sim' if (x < lower_limit_1 or x > upper_limit_1) else 'Não'\n",
    ")\n",
    "df_recebimentos[['Valor da Movimentação', 'Eh_outlier']]"
   ]
  },
  {
   "cell_type": "code",
   "execution_count": 17,
   "metadata": {},
   "outputs": [
    {
     "data": {
      "text/plain": [
       "Eh_outlier\n",
       "Não    1401\n",
       "Sim     320\n",
       "dtype: int64"
      ]
     },
     "execution_count": 17,
     "metadata": {},
     "output_type": "execute_result"
    }
   ],
   "source": [
    "# Counting outliers\n",
    "df_recebimentos.groupby(['Eh_outlier']).size()"
   ]
  },
  {
   "cell_type": "code",
   "execution_count": 18,
   "metadata": {},
   "outputs": [
    {
     "data": {
      "text/plain": [
       "<Axes: xlabel='Eh_outlier', ylabel='Count'>"
      ]
     },
     "execution_count": 18,
     "metadata": {},
     "output_type": "execute_result"
    },
    {
     "data": {
      "image/png": "[encoded data removed]",
      "text/plain": [
       "<Figure size 640x480 with 1 Axes>"
      ]
     },
     "metadata": {},
     "output_type": "display_data"
    }
   ],
   "source": [
    "# Histrogram of outliers\n",
    "srn.histplot(df_recebimentos['Eh_outlier'])"
   ]
  },
  {
   "cell_type": "code",
   "execution_count": 19,
   "metadata": {},
   "outputs": [],
   "source": [
    "# Filtering data within the interval for processing without outliers\n",
    "values_without_outliers_1 = df_recebimentos['Valor da Movimentação'][\n",
    "    (df_recebimentos['Valor da Movimentação'] >= lower_limit_1) |\n",
    "    (df_recebimentos['Valor da Movimentação'] <= upper_limit_1)\n",
    "]"
   ]
  },
  {
   "cell_type": "code",
   "execution_count": 20,
   "metadata": {},
   "outputs": [
    {
     "name": "stdout",
     "output_type": "stream",
     "text": [
      "Mean: 34499.36\n",
      "Median: 10962.27\n",
      "Standard Deviation: 51813.35\n",
      "Absolute difference between standard deviation and median: 40851.08\n",
      "\n",
      "Mean without outliers: 34499.36\n",
      "Median without outliers: 10962.27\n",
      "Standard Deviation without outliers: 51813.35\n",
      "Absolute difference between standard deviation and median: 40851.08\n"
     ]
    }
   ],
   "source": [
    "# Statistical calculations\n",
    "mean_1 = sts.mean(df_recebimentos['Valor da Movimentação'])\n",
    "median_1 = sts.median(df_recebimentos['Valor da Movimentação'])\n",
    "std_dev_1 = sts.stdev(df_recebimentos['Valor da Movimentação'])\n",
    "diff_std_median_1 = abs(std_dev_1 - median_1)\n",
    "\n",
    "# Statistical calculations without outliers\n",
    "mean_without_outrs_1 = sts.mean(values_without_outliers_1)\n",
    "median_without_outrs_1 = sts.median(values_without_outliers_1)\n",
    "std_dev_without_outrs_1 = sts.stdev(values_without_outliers_1)\n",
    "diff_std_median_without_outrs_1 = abs(std_dev_without_outrs_1 - median_without_outrs_1)\n",
    "\n",
    "# Displaying results with outliers\n",
    "print(f'Mean: {mean_1:.2f}')\n",
    "print(f'Median: {median_1:.2f}')\n",
    "print(f'Standard Deviation: {std_dev_1:.2f}')\n",
    "print(f'Absolute difference between standard deviation and median: {diff_std_median_1:.2f}')\n",
    "print()  # Empty line\n",
    "\n",
    "# Displaying results without outliers\n",
    "print(f\"Mean without outliers: {mean_without_outrs_1:.2f}\")\n",
    "print(f\"Median without outliers: {median_without_outrs_1:.2f}\")\n",
    "print(f\"Standard Deviation without outliers: {std_dev_without_outrs_1:.2f}\")\n",
    "print(\n",
    "    f'Absolute difference between standard deviation and median: '\n",
    "    f'{diff_std_median_without_outrs_1:.2f}'\n",
    ")"
   ]
  },
  {
   "cell_type": "code",
   "execution_count": 21,
   "metadata": {},
   "outputs": [
    {
     "name": "stdout",
     "output_type": "stream",
     "text": [
      "It is not less\n",
      "It is not less\n",
      "Coefficient of Variation (CV): 1.50\n",
      "Outliers may be distorting the data.\n",
      "\n",
      "It is not less\n",
      "It is not less\n",
      "Coefficient of Variation (CV): 1.50\n",
      "Outliers may be distorting the data.\n"
     ]
    }
   ],
   "source": [
    "# Checking if standard deviation is less than IQR\n",
    "if std_dev_1 < IQR:\n",
    "    print('It is less')\n",
    "else:\n",
    "    print('It is not less')\n",
    "\n",
    "if std_dev_1 < (1.5 * median_1):\n",
    "    print('It is less')\n",
    "else:\n",
    "    print('It is not less')\n",
    "\n",
    "# Coefficient of Variation (CV)\n",
    "coef_variation_1 = std_dev_1 / mean_1\n",
    "print(f\"Coefficient of Variation (CV): {coef_variation_1:.2f}\")\n",
    "\n",
    "if coef_variation_1 > 0.5:\n",
    "    print(\"Outliers may be distorting the data.\")\n",
    "else:\n",
    "    print(\"The data is consistent.\")\n",
    "\n",
    "print()  # Empty line\n",
    "\n",
    "if std_dev_without_outrs_1 < IQR:\n",
    "    print('It is less')\n",
    "else:\n",
    "    print('It is not less')\n",
    "\n",
    "if std_dev_without_outrs_1 < (1.5 * mean_without_outrs_1):\n",
    "    print('It is less')\n",
    "else:\n",
    "    print('It is not less')\n",
    "\n",
    "# Coefficient of Variation (CV)\n",
    "coef_variation_2 = std_dev_without_outrs_1 / mean_without_outrs_1\n",
    "print(f\"Coefficient of Variation (CV): {coef_variation_2:.2f}\")\n",
    "if coef_variation_2 > 0.5:\n",
    "    print(\"Outliers may be distorting the data.\")\n",
    "else:\n",
    "    print(\"The data is consistent.\")\n"
   ]
  },
  {
   "cell_type": "code",
   "execution_count": 22,
   "metadata": {},
   "outputs": [
    {
     "name": "stdout",
     "output_type": "stream",
     "text": [
      "Outlier clients:\n",
      "Id Cliente\n",
      "178    105\n",
      "174     94\n",
      "175     46\n",
      "105     39\n",
      "356     18\n",
      "180     12\n",
      "176      4\n",
      "57       1\n",
      "53       1\n",
      "Name: count, dtype: int64\n"
     ]
    }
   ],
   "source": [
    "# Identifying outlier clients\n",
    "outlier_clients_id = df_recebimentos[df_recebimentos['Eh_outlier'] == 'Sim']['Id Cliente'].value_counts()\n",
    "print(f\"Outlier clients:\\n{outlier_clients_id}\")"
   ]
  },
  {
   "cell_type": "code",
   "execution_count": 23,
   "metadata": {},
   "outputs": [
    {
     "data": {
      "text/plain": [
       "Id Cliente\n",
       "178    14118364.42\n",
       "174    13040682.03\n",
       "175     8096063.78\n",
       "105     5538897.66\n",
       "356     1894207.32\n",
       "79      1724434.51\n",
       "133     1703069.44\n",
       "180     1678335.25\n",
       "246     1591432.94\n",
       "96      1464507.48\n",
       "Name: Valor da Movimentação, dtype: float64"
      ]
     },
     "execution_count": 23,
     "metadata": {},
     "output_type": "execute_result"
    }
   ],
   "source": [
    "# Total received by outlier clients\n",
    "total_received_clients = df_recebimentos.groupby('Id Cliente')['Valor da Movimentação'].sum()\n",
    "\n",
    "# Sort values ​​in descending order\n",
    "total_received_clients = total_received_clients.sort_values(ascending=False)\n",
    "\n",
    "# Display the first 10 values ​​of the total received by the customer\n",
    "total_received_clients.head(10)"
   ]
  },
  {
   "cell_type": "code",
   "execution_count": 24,
   "metadata": {},
   "outputs": [
    {
     "name": "stdout",
     "output_type": "stream",
     "text": [
      "Percentual de Outliers: 18.59%\n",
      "Percentual de \"liers\": 81.41%\n"
     ]
    }
   ],
   "source": [
    "# Frequency percentage of outliers and \"liers\"\n",
    "# Total received by outlier customers\n",
    "freq_outrs_1 = len(df_recebimentos[df_recebimentos['Eh_outlier'] == 'Sim'])\n",
    "\n",
    "# Calculate the percentage of outliers\n",
    "percent_outrs_1 = (freq_outrs_1 / len(df_recebimentos)) * 100\n",
    "\n",
    "# Display the percentage of outliers\n",
    "print(f\"Percentual de Outliers: {percent_outrs_1:.2f}%\")\n",
    "print(f'Percentual de \"liers\": {(100 - percent_outrs_1):.2f}%')"
   ]
  },
  {
   "cell_type": "code",
   "execution_count": 25,
   "metadata": {},
   "outputs": [
    {
     "name": "stdout",
     "output_type": "stream",
     "text": [
      "Ano\n",
      "2018    1.722263e+07\n",
      "2019    2.632968e+07\n",
      "Name: Valor da Movimentação, dtype: float64\n",
      "\n",
      "Mês\n",
      "1     3891662.679\n",
      "2     3825333.584\n",
      "3     2890361.310\n",
      "4     3510277.840\n",
      "5     3330004.997\n",
      "6     2923666.423\n",
      "7     2610675.784\n",
      "8     4631809.712\n",
      "9     3323744.038\n",
      "10    4149109.430\n",
      "11    3877556.189\n",
      "12    4588106.750\n",
      "Name: Valor da Movimentação, dtype: float64\n"
     ]
    }
   ],
   "source": [
    "# EXPLORING THE CONTRIBUTION OF OUTLIERS TO THE TOTAL RECEIVED\n",
    "# Total received by outlier customer\n",
    "otlrs_1 = df_recebimentos[df_recebimentos['Eh_outlier'] == 'Sim'].copy()\n",
    "\n",
    "# Add columns for Year and Month\n",
    "otlrs_1['Ano'] = df_recebimentos['Data da Movimentação'].dt.year\n",
    "otlrs_1['Mês'] = df_recebimentos['Data da Movimentação'].dt.month\n",
    "\n",
    "# Group and Display total received by year\n",
    "outliers_by_year = otlrs_1.groupby('Ano')['Valor da Movimentação'].sum()\n",
    "print(outliers_by_year)\n",
    "print() # Linha vazia\n",
    "\n",
    "# Group and Display the total received per month\n",
    "outliers_by_month = otlrs_1.groupby(['Mês'])['Valor da Movimentação'].sum()\n",
    "print(f'{outliers_by_month}')"
   ]
  },
  {
   "cell_type": "code",
   "execution_count": 26,
   "metadata": {},
   "outputs": [
    {
     "name": "stdout",
     "output_type": "stream",
     "text": [
      "Ano\n",
      "2018    7475576.988\n",
      "2019    8345520.483\n",
      "Name: Valor da Movimentação, dtype: float64\n",
      "\n",
      "Mês\n",
      "1      998575.263\n",
      "2     1466430.490\n",
      "3     1334781.167\n",
      "4     1257484.984\n",
      "5     1100712.730\n",
      "6     1273491.147\n",
      "7     1365522.077\n",
      "8     1405765.224\n",
      "9     1566121.696\n",
      "10    1392150.191\n",
      "11    1461397.883\n",
      "12    1198664.619\n",
      "Name: Valor da Movimentação, dtype: float64\n"
     ]
    }
   ],
   "source": [
    "# Variable for customers who are not outliers (the \"liers\")\n",
    "normal_clients = df_recebimentos[df_recebimentos['Eh_outlier'] == 'Não'].copy()\n",
    "\n",
    "# Add columns for Year and Month\n",
    "normal_clients['Ano'] = df_recebimentos['Data da Movimentação'].dt.year\n",
    "normal_clients['Mês'] = df_recebimentos['Data da Movimentação'].dt.month\n",
    "\n",
    "# Group and Display total received by year\n",
    "normal_clients_year = normal_clients.groupby('Ano')['Valor da Movimentação'].sum()\n",
    "print(normal_clients_year)\n",
    "print() # Empty line\n",
    "\n",
    "# Group and Display the total received per month\n",
    "normal_clients_month = normal_clients.groupby('Mês')['Valor da Movimentação'].sum()\n",
    "print(normal_clients_month) "
   ]
  },
  {
   "cell_type": "markdown",
   "metadata": {},
   "source": [
    "### 1.2 Pagamentos (Payments)"
   ]
  },
  {
   "cell_type": "code",
   "execution_count": 27,
   "metadata": {},
   "outputs": [
    {
     "data": {
      "text/html": [
       "<div>\n",
       "<style scoped>\n",
       "    .dataframe tbody tr th:only-of-type {\n",
       "        vertical-align: middle;\n",
       "    }\n",
       "\n",
       "    .dataframe tbody tr th {\n",
       "        vertical-align: top;\n",
       "    }\n",
       "\n",
       "    .dataframe thead th {\n",
       "        text-align: right;\n",
       "    }\n",
       "</style>\n",
       "<table border=\"1\" class=\"dataframe\">\n",
       "  <thead>\n",
       "    <tr style=\"text-align: right;\">\n",
       "      <th></th>\n",
       "      <th>Id Fornecedor</th>\n",
       "      <th>Id Conta Bancária</th>\n",
       "      <th>Data de Emissao</th>\n",
       "      <th>Data de Vencimento</th>\n",
       "      <th>Data da Movimentação</th>\n",
       "      <th>Valor da Movimentação</th>\n",
       "    </tr>\n",
       "  </thead>\n",
       "  <tbody>\n",
       "    <tr>\n",
       "      <th>0</th>\n",
       "      <td>9</td>\n",
       "      <td>x 80771218846-00</td>\n",
       "      <td>2018-01-11</td>\n",
       "      <td>2018-01-16</td>\n",
       "      <td>2018-01-11</td>\n",
       "      <td>19540.710</td>\n",
       "    </tr>\n",
       "    <tr>\n",
       "      <th>1</th>\n",
       "      <td>150</td>\n",
       "      <td>x 75664985359-06</td>\n",
       "      <td>2018-01-13</td>\n",
       "      <td>2018-01-16</td>\n",
       "      <td>2018-01-18</td>\n",
       "      <td>1577.625</td>\n",
       "    </tr>\n",
       "    <tr>\n",
       "      <th>2</th>\n",
       "      <td>150</td>\n",
       "      <td>x 61586581630-06</td>\n",
       "      <td>2018-01-13</td>\n",
       "      <td>2018-01-16</td>\n",
       "      <td>2018-01-19</td>\n",
       "      <td>1431.080</td>\n",
       "    </tr>\n",
       "    <tr>\n",
       "      <th>3</th>\n",
       "      <td>150</td>\n",
       "      <td>x 10641176832-10</td>\n",
       "      <td>2018-01-19</td>\n",
       "      <td>2018-01-23</td>\n",
       "      <td>2018-01-19</td>\n",
       "      <td>2060.765</td>\n",
       "    </tr>\n",
       "    <tr>\n",
       "      <th>4</th>\n",
       "      <td>197</td>\n",
       "      <td>x 77167377617-02</td>\n",
       "      <td>2018-01-30</td>\n",
       "      <td>2018-01-30</td>\n",
       "      <td>2018-01-30</td>\n",
       "      <td>13182.400</td>\n",
       "    </tr>\n",
       "    <tr>\n",
       "      <th>...</th>\n",
       "      <td>...</td>\n",
       "      <td>...</td>\n",
       "      <td>...</td>\n",
       "      <td>...</td>\n",
       "      <td>...</td>\n",
       "      <td>...</td>\n",
       "    </tr>\n",
       "    <tr>\n",
       "      <th>999</th>\n",
       "      <td>541</td>\n",
       "      <td>x 86791017985-09</td>\n",
       "      <td>2019-12-18</td>\n",
       "      <td>2019-12-28</td>\n",
       "      <td>2019-12-28</td>\n",
       "      <td>954.250</td>\n",
       "    </tr>\n",
       "    <tr>\n",
       "      <th>1000</th>\n",
       "      <td>542</td>\n",
       "      <td>x 61320183682-00</td>\n",
       "      <td>2019-12-18</td>\n",
       "      <td>2019-12-28</td>\n",
       "      <td>2019-12-28</td>\n",
       "      <td>156.960</td>\n",
       "    </tr>\n",
       "    <tr>\n",
       "      <th>1001</th>\n",
       "      <td>543</td>\n",
       "      <td>x 94994947160-08</td>\n",
       "      <td>2019-12-28</td>\n",
       "      <td>2019-12-28</td>\n",
       "      <td>2019-12-28</td>\n",
       "      <td>155.320</td>\n",
       "    </tr>\n",
       "    <tr>\n",
       "      <th>1002</th>\n",
       "      <td>544</td>\n",
       "      <td>x 32439935907-10</td>\n",
       "      <td>2019-12-18</td>\n",
       "      <td>2019-12-28</td>\n",
       "      <td>2019-12-28</td>\n",
       "      <td>17336.200</td>\n",
       "    </tr>\n",
       "    <tr>\n",
       "      <th>1003</th>\n",
       "      <td>545</td>\n",
       "      <td>x 10859524552-06</td>\n",
       "      <td>2019-12-18</td>\n",
       "      <td>2019-12-28</td>\n",
       "      <td>2019-12-28</td>\n",
       "      <td>10052.700</td>\n",
       "    </tr>\n",
       "  </tbody>\n",
       "</table>\n",
       "<p>1004 rows × 6 columns</p>\n",
       "</div>"
      ],
      "text/plain": [
       "      Id Fornecedor Id Conta Bancária Data de Emissao Data de Vencimento  \\\n",
       "0                 9  x 80771218846-00      2018-01-11         2018-01-16   \n",
       "1               150  x 75664985359-06      2018-01-13         2018-01-16   \n",
       "2               150  x 61586581630-06      2018-01-13         2018-01-16   \n",
       "3               150  x 10641176832-10      2018-01-19         2018-01-23   \n",
       "4               197  x 77167377617-02      2018-01-30         2018-01-30   \n",
       "...             ...               ...             ...                ...   \n",
       "999             541  x 86791017985-09      2019-12-18         2019-12-28   \n",
       "1000            542  x 61320183682-00      2019-12-18         2019-12-28   \n",
       "1001            543  x 94994947160-08      2019-12-28         2019-12-28   \n",
       "1002            544  x 32439935907-10      2019-12-18         2019-12-28   \n",
       "1003            545  x 10859524552-06      2019-12-18         2019-12-28   \n",
       "\n",
       "     Data da Movimentação  Valor da Movimentação  \n",
       "0              2018-01-11              19540.710  \n",
       "1              2018-01-18               1577.625  \n",
       "2              2018-01-19               1431.080  \n",
       "3              2018-01-19               2060.765  \n",
       "4              2018-01-30              13182.400  \n",
       "...                   ...                    ...  \n",
       "999            2019-12-28                954.250  \n",
       "1000           2019-12-28                156.960  \n",
       "1001           2019-12-28                155.320  \n",
       "1002           2019-12-28              17336.200  \n",
       "1003           2019-12-28              10052.700  \n",
       "\n",
       "[1004 rows x 6 columns]"
      ]
     },
     "execution_count": 27,
     "metadata": {},
     "output_type": "execute_result"
    }
   ],
   "source": [
    "# Exploring the data frame\n",
    "df_pagamentos"
   ]
  },
  {
   "cell_type": "code",
   "execution_count": 28,
   "metadata": {},
   "outputs": [
    {
     "data": {
      "text/plain": [
       "Id Fornecedor            0\n",
       "Id Conta Bancária        0\n",
       "Data de Emissao          0\n",
       "Data de Vencimento       0\n",
       "Data da Movimentação     0\n",
       "Valor da Movimentação    0\n",
       "dtype: int64"
      ]
     },
     "execution_count": 28,
     "metadata": {},
     "output_type": "execute_result"
    }
   ],
   "source": [
    "# Verifying null values\n",
    "df_pagamentos.isnull().sum()"
   ]
  },
  {
   "cell_type": "code",
   "execution_count": 29,
   "metadata": {},
   "outputs": [
    {
     "data": {
      "text/html": [
       "<div>\n",
       "<style scoped>\n",
       "    .dataframe tbody tr th:only-of-type {\n",
       "        vertical-align: middle;\n",
       "    }\n",
       "\n",
       "    .dataframe tbody tr th {\n",
       "        vertical-align: top;\n",
       "    }\n",
       "\n",
       "    .dataframe thead th {\n",
       "        text-align: right;\n",
       "    }\n",
       "</style>\n",
       "<table border=\"1\" class=\"dataframe\">\n",
       "  <thead>\n",
       "    <tr style=\"text-align: right;\">\n",
       "      <th></th>\n",
       "      <th>Id Fornecedor</th>\n",
       "      <th>Id Conta Bancária</th>\n",
       "      <th>Data de Emissao</th>\n",
       "      <th>Data de Vencimento</th>\n",
       "      <th>Data da Movimentação</th>\n",
       "      <th>Valor da Movimentação</th>\n",
       "    </tr>\n",
       "  </thead>\n",
       "  <tbody>\n",
       "    <tr>\n",
       "      <th>0</th>\n",
       "      <td>9</td>\n",
       "      <td>x 80771218846-00</td>\n",
       "      <td>2018-01-11</td>\n",
       "      <td>2018-01-16</td>\n",
       "      <td>2018-01-11</td>\n",
       "      <td>R$ 19.540,71</td>\n",
       "    </tr>\n",
       "    <tr>\n",
       "      <th>1</th>\n",
       "      <td>150</td>\n",
       "      <td>x 75664985359-06</td>\n",
       "      <td>2018-01-13</td>\n",
       "      <td>2018-01-16</td>\n",
       "      <td>2018-01-18</td>\n",
       "      <td>R$ 1.577,62</td>\n",
       "    </tr>\n",
       "    <tr>\n",
       "      <th>2</th>\n",
       "      <td>150</td>\n",
       "      <td>x 61586581630-06</td>\n",
       "      <td>2018-01-13</td>\n",
       "      <td>2018-01-16</td>\n",
       "      <td>2018-01-19</td>\n",
       "      <td>R$ 1.431,08</td>\n",
       "    </tr>\n",
       "    <tr>\n",
       "      <th>3</th>\n",
       "      <td>150</td>\n",
       "      <td>x 10641176832-10</td>\n",
       "      <td>2018-01-19</td>\n",
       "      <td>2018-01-23</td>\n",
       "      <td>2018-01-19</td>\n",
       "      <td>R$ 2.060,76</td>\n",
       "    </tr>\n",
       "    <tr>\n",
       "      <th>4</th>\n",
       "      <td>197</td>\n",
       "      <td>x 77167377617-02</td>\n",
       "      <td>2018-01-30</td>\n",
       "      <td>2018-01-30</td>\n",
       "      <td>2018-01-30</td>\n",
       "      <td>R$ 13.182,40</td>\n",
       "    </tr>\n",
       "    <tr>\n",
       "      <th>...</th>\n",
       "      <td>...</td>\n",
       "      <td>...</td>\n",
       "      <td>...</td>\n",
       "      <td>...</td>\n",
       "      <td>...</td>\n",
       "      <td>...</td>\n",
       "    </tr>\n",
       "    <tr>\n",
       "      <th>999</th>\n",
       "      <td>541</td>\n",
       "      <td>x 86791017985-09</td>\n",
       "      <td>2019-12-18</td>\n",
       "      <td>2019-12-28</td>\n",
       "      <td>2019-12-28</td>\n",
       "      <td>R$ 954,25</td>\n",
       "    </tr>\n",
       "    <tr>\n",
       "      <th>1000</th>\n",
       "      <td>542</td>\n",
       "      <td>x 61320183682-00</td>\n",
       "      <td>2019-12-18</td>\n",
       "      <td>2019-12-28</td>\n",
       "      <td>2019-12-28</td>\n",
       "      <td>R$ 156,96</td>\n",
       "    </tr>\n",
       "    <tr>\n",
       "      <th>1001</th>\n",
       "      <td>543</td>\n",
       "      <td>x 94994947160-08</td>\n",
       "      <td>2019-12-28</td>\n",
       "      <td>2019-12-28</td>\n",
       "      <td>2019-12-28</td>\n",
       "      <td>R$ 155,32</td>\n",
       "    </tr>\n",
       "    <tr>\n",
       "      <th>1002</th>\n",
       "      <td>544</td>\n",
       "      <td>x 32439935907-10</td>\n",
       "      <td>2019-12-18</td>\n",
       "      <td>2019-12-28</td>\n",
       "      <td>2019-12-28</td>\n",
       "      <td>R$ 17.336,20</td>\n",
       "    </tr>\n",
       "    <tr>\n",
       "      <th>1003</th>\n",
       "      <td>545</td>\n",
       "      <td>x 10859524552-06</td>\n",
       "      <td>2019-12-18</td>\n",
       "      <td>2019-12-28</td>\n",
       "      <td>2019-12-28</td>\n",
       "      <td>R$ 10.052,70</td>\n",
       "    </tr>\n",
       "  </tbody>\n",
       "</table>\n",
       "<p>1004 rows × 6 columns</p>\n",
       "</div>"
      ],
      "text/plain": [
       "      Id Fornecedor Id Conta Bancária Data de Emissao Data de Vencimento  \\\n",
       "0                 9  x 80771218846-00      2018-01-11         2018-01-16   \n",
       "1               150  x 75664985359-06      2018-01-13         2018-01-16   \n",
       "2               150  x 61586581630-06      2018-01-13         2018-01-16   \n",
       "3               150  x 10641176832-10      2018-01-19         2018-01-23   \n",
       "4               197  x 77167377617-02      2018-01-30         2018-01-30   \n",
       "...             ...               ...             ...                ...   \n",
       "999             541  x 86791017985-09      2019-12-18         2019-12-28   \n",
       "1000            542  x 61320183682-00      2019-12-18         2019-12-28   \n",
       "1001            543  x 94994947160-08      2019-12-28         2019-12-28   \n",
       "1002            544  x 32439935907-10      2019-12-18         2019-12-28   \n",
       "1003            545  x 10859524552-06      2019-12-18         2019-12-28   \n",
       "\n",
       "     Data da Movimentação Valor da Movimentação  \n",
       "0              2018-01-11          R$ 19.540,71  \n",
       "1              2018-01-18           R$ 1.577,62  \n",
       "2              2018-01-19           R$ 1.431,08  \n",
       "3              2018-01-19           R$ 2.060,76  \n",
       "4              2018-01-30          R$ 13.182,40  \n",
       "...                   ...                   ...  \n",
       "999            2019-12-28             R$ 954,25  \n",
       "1000           2019-12-28             R$ 156,96  \n",
       "1001           2019-12-28             R$ 155,32  \n",
       "1002           2019-12-28          R$ 17.336,20  \n",
       "1003           2019-12-28          R$ 10.052,70  \n",
       "\n",
       "[1004 rows x 6 columns]"
      ]
     },
     "execution_count": 29,
     "metadata": {},
     "output_type": "execute_result"
    }
   ],
   "source": [
    "# Copying the DataFrame for formatted display\n",
    "df_pagamentos_display = df_pagamentos.copy()\n",
    "# Formatting the values in the copy\n",
    "df_pagamentos_display['Valor da Movimentação'] = df_pagamentos_display['Valor da Movimentação'].map(\n",
    "    lambda x: f'R$ {x:,.2f}'.replace(',', 'X').replace('.', ',').replace('X','.')\n",
    ")\n",
    "df_pagamentos_display"
   ]
  },
  {
   "cell_type": "code",
   "execution_count": 30,
   "metadata": {},
   "outputs": [
    {
     "data": {
      "text/plain": [
       "Data de Emissao\n",
       "2018-01-05    1\n",
       "2018-01-06    1\n",
       "2018-01-10    1\n",
       "2018-01-11    1\n",
       "2018-01-12    1\n",
       "             ..\n",
       "2019-12-19    4\n",
       "2019-12-20    2\n",
       "2019-12-26    2\n",
       "2019-12-27    7\n",
       "2019-12-28    1\n",
       "Length: 343, dtype: int64"
      ]
     },
     "execution_count": 30,
     "metadata": {},
     "output_type": "execute_result"
    }
   ],
   "source": [
    "# Grouping (uncomemment the variables to group by other columns) \n",
    "grouped = df_pagamentos.groupby(['Data de Emissao']).size()\n",
    "#agrupamento = df_pagamentos.groupby(['Data da Movimentação']).size()\n",
    "#agrupamento = df_pagamentos.groupby(['Data de Vencimento']).size()\n",
    "\n",
    "grouped"
   ]
  },
  {
   "cell_type": "code",
   "execution_count": 31,
   "metadata": {},
   "outputs": [
    {
     "name": "stdout",
     "output_type": "stream",
     "text": [
      "\n",
      "Descriptive statistics of numerical features:\n"
     ]
    },
    {
     "data": {
      "text/html": [
       "<div>\n",
       "<style scoped>\n",
       "    .dataframe tbody tr th:only-of-type {\n",
       "        vertical-align: middle;\n",
       "    }\n",
       "\n",
       "    .dataframe tbody tr th {\n",
       "        vertical-align: top;\n",
       "    }\n",
       "\n",
       "    .dataframe thead th {\n",
       "        text-align: right;\n",
       "    }\n",
       "</style>\n",
       "<table border=\"1\" class=\"dataframe\">\n",
       "  <thead>\n",
       "    <tr style=\"text-align: right;\">\n",
       "      <th></th>\n",
       "      <th>Id Fornecedor</th>\n",
       "      <th>Valor da Movimentação</th>\n",
       "    </tr>\n",
       "  </thead>\n",
       "  <tbody>\n",
       "    <tr>\n",
       "      <th>count</th>\n",
       "      <td>1004.000000</td>\n",
       "      <td>1.004000e+03</td>\n",
       "    </tr>\n",
       "    <tr>\n",
       "      <th>mean</th>\n",
       "      <td>408.761952</td>\n",
       "      <td>2.392063e+04</td>\n",
       "    </tr>\n",
       "    <tr>\n",
       "      <th>std</th>\n",
       "      <td>180.340196</td>\n",
       "      <td>7.768758e+04</td>\n",
       "    </tr>\n",
       "    <tr>\n",
       "      <th>min</th>\n",
       "      <td>4.000000</td>\n",
       "      <td>0.000000e+00</td>\n",
       "    </tr>\n",
       "    <tr>\n",
       "      <th>25%</th>\n",
       "      <td>254.000000</td>\n",
       "      <td>2.045190e+03</td>\n",
       "    </tr>\n",
       "    <tr>\n",
       "      <th>50%</th>\n",
       "      <td>459.000000</td>\n",
       "      <td>7.068600e+03</td>\n",
       "    </tr>\n",
       "    <tr>\n",
       "      <th>75%</th>\n",
       "      <td>570.000000</td>\n",
       "      <td>1.706358e+04</td>\n",
       "    </tr>\n",
       "    <tr>\n",
       "      <th>max</th>\n",
       "      <td>630.000000</td>\n",
       "      <td>1.087492e+06</td>\n",
       "    </tr>\n",
       "  </tbody>\n",
       "</table>\n",
       "</div>"
      ],
      "text/plain": [
       "       Id Fornecedor  Valor da Movimentação\n",
       "count    1004.000000           1.004000e+03\n",
       "mean      408.761952           2.392063e+04\n",
       "std       180.340196           7.768758e+04\n",
       "min         4.000000           0.000000e+00\n",
       "25%       254.000000           2.045190e+03\n",
       "50%       459.000000           7.068600e+03\n",
       "75%       570.000000           1.706358e+04\n",
       "max       630.000000           1.087492e+06"
      ]
     },
     "execution_count": 31,
     "metadata": {},
     "output_type": "execute_result"
    }
   ],
   "source": [
    "# Descriptive statistics of numerical features\n",
    "print('\\nDescriptive statistics of numerical features:')\n",
    "df_pagamentos[['Id Fornecedor', 'Valor da Movimentação']].describe()"
   ]
  },
  {
   "cell_type": "code",
   "execution_count": 32,
   "metadata": {},
   "outputs": [
    {
     "data": {
      "text/plain": [
       "Text(0.5, 1.0, 'Valor da Movimentação')"
      ]
     },
     "execution_count": 32,
     "metadata": {},
     "output_type": "execute_result"
    },
    {
     "data": {
      "image/png": "[encoded data removed]",
      "text/plain": [
       "<Figure size 640x480 with 1 Axes>"
      ]
     },
     "metadata": {},
     "output_type": "display_data"
    }
   ],
   "source": [
    "# Boxplot of Transaction Value\n",
    "srn.boxplot(df_pagamentos['Valor da Movimentação'], color='gray').set_title('Valor da Movimentação')"
   ]
  },
  {
   "cell_type": "code",
   "execution_count": 33,
   "metadata": {},
   "outputs": [
    {
     "data": {
      "text/plain": [
       "<Axes: xlabel='Valor da Movimentação', ylabel='Count'>"
      ]
     },
     "execution_count": 33,
     "metadata": {},
     "output_type": "execute_result"
    },
    {
     "data": {
      "image/png": "[encoded data removed]",
      "text/plain": [
       "<Figure size 640x480 with 1 Axes>"
      ]
     },
     "metadata": {},
     "output_type": "display_data"
    }
   ],
   "source": [
    "# Histogram of Transaction Value\n",
    "srn.histplot(df_pagamentos['Valor da Movimentação'])"
   ]
  },
  {
   "cell_type": "code",
   "execution_count": 34,
   "metadata": {},
   "outputs": [
    {
     "name": "stdout",
     "output_type": "stream",
     "text": [
      "IQR = 15018.386249999998\n",
      "limite superior= 39591.155625 e limite inferior = -20482.389375.\n"
     ]
    },
    {
     "data": {
      "text/plain": [
       "18      42971.460\n",
       "25      55102.950\n",
       "36      50196.580\n",
       "38     124783.400\n",
       "40      62689.410\n",
       "          ...    \n",
       "935    610251.495\n",
       "947    200492.740\n",
       "948    202576.360\n",
       "970     40775.420\n",
       "993     41110.580\n",
       "Name: Valor da Movimentação, Length: 87, dtype: float64"
      ]
     },
     "execution_count": 34,
     "metadata": {},
     "output_type": "execute_result"
    }
   ],
   "source": [
    "# Calculating Q1, Q3, and IQR\n",
    "Q1 = df_pagamentos['Valor da Movimentação'].quantile(0.25) # First quartile\n",
    "Q3 = df_pagamentos['Valor da Movimentação'].quantile(0.75) # Third quartile\n",
    "\n",
    "IQR = Q3 - Q1 # Amplitude interquartil\n",
    "print(f'IQR = {IQR}')\n",
    "\n",
    "# Calculating limits for outliers\n",
    "upper_limit_2 = Q3 + 1.5 * IQR \n",
    "lower_limit_2 = Q1 - 1.5 * IQR \n",
    "print(f'limite superior= {upper_limit_2} e limite inferior = {lower_limit_2}.')\n",
    "\n",
    "# Defining limits for outliers\n",
    "df_pagamentos['Valor da Movimentação'][\n",
    "    (df_pagamentos['Valor da Movimentação'] <= lower_limit_2) |\n",
    "    (df_pagamentos['Valor da Movimentação'] >= upper_limit_2)\n",
    "]"
   ]
  },
  {
   "cell_type": "code",
   "execution_count": 35,
   "metadata": {},
   "outputs": [
    {
     "data": {
      "text/html": [
       "<div>\n",
       "<style scoped>\n",
       "    .dataframe tbody tr th:only-of-type {\n",
       "        vertical-align: middle;\n",
       "    }\n",
       "\n",
       "    .dataframe tbody tr th {\n",
       "        vertical-align: top;\n",
       "    }\n",
       "\n",
       "    .dataframe thead th {\n",
       "        text-align: right;\n",
       "    }\n",
       "</style>\n",
       "<table border=\"1\" class=\"dataframe\">\n",
       "  <thead>\n",
       "    <tr style=\"text-align: right;\">\n",
       "      <th></th>\n",
       "      <th>Valor da Movimentação</th>\n",
       "      <th>Eh_outlier</th>\n",
       "    </tr>\n",
       "  </thead>\n",
       "  <tbody>\n",
       "    <tr>\n",
       "      <th>0</th>\n",
       "      <td>19540.710</td>\n",
       "      <td>Não</td>\n",
       "    </tr>\n",
       "    <tr>\n",
       "      <th>1</th>\n",
       "      <td>1577.625</td>\n",
       "      <td>Não</td>\n",
       "    </tr>\n",
       "    <tr>\n",
       "      <th>2</th>\n",
       "      <td>1431.080</td>\n",
       "      <td>Não</td>\n",
       "    </tr>\n",
       "    <tr>\n",
       "      <th>3</th>\n",
       "      <td>2060.765</td>\n",
       "      <td>Não</td>\n",
       "    </tr>\n",
       "    <tr>\n",
       "      <th>4</th>\n",
       "      <td>13182.400</td>\n",
       "      <td>Não</td>\n",
       "    </tr>\n",
       "    <tr>\n",
       "      <th>...</th>\n",
       "      <td>...</td>\n",
       "      <td>...</td>\n",
       "    </tr>\n",
       "    <tr>\n",
       "      <th>999</th>\n",
       "      <td>954.250</td>\n",
       "      <td>Não</td>\n",
       "    </tr>\n",
       "    <tr>\n",
       "      <th>1000</th>\n",
       "      <td>156.960</td>\n",
       "      <td>Não</td>\n",
       "    </tr>\n",
       "    <tr>\n",
       "      <th>1001</th>\n",
       "      <td>155.320</td>\n",
       "      <td>Não</td>\n",
       "    </tr>\n",
       "    <tr>\n",
       "      <th>1002</th>\n",
       "      <td>17336.200</td>\n",
       "      <td>Não</td>\n",
       "    </tr>\n",
       "    <tr>\n",
       "      <th>1003</th>\n",
       "      <td>10052.700</td>\n",
       "      <td>Não</td>\n",
       "    </tr>\n",
       "  </tbody>\n",
       "</table>\n",
       "<p>1004 rows × 2 columns</p>\n",
       "</div>"
      ],
      "text/plain": [
       "      Valor da Movimentação Eh_outlier\n",
       "0                 19540.710        Não\n",
       "1                  1577.625        Não\n",
       "2                  1431.080        Não\n",
       "3                  2060.765        Não\n",
       "4                 13182.400        Não\n",
       "...                     ...        ...\n",
       "999                 954.250        Não\n",
       "1000                156.960        Não\n",
       "1001                155.320        Não\n",
       "1002              17336.200        Não\n",
       "1003              10052.700        Não\n",
       "\n",
       "[1004 rows x 2 columns]"
      ]
     },
     "execution_count": 35,
     "metadata": {},
     "output_type": "execute_result"
    }
   ],
   "source": [
    "# Identifying outliers\n",
    "df_pagamentos['Eh_outlier'] = df_pagamentos['Valor da Movimentação'].apply(\n",
    "    lambda x: 'Sim' if (x < lower_limit_2 or x > upper_limit_2) else 'Não'\n",
    ")\n",
    "df_pagamentos[['Valor da Movimentação', 'Eh_outlier']]"
   ]
  },
  {
   "cell_type": "code",
   "execution_count": 36,
   "metadata": {},
   "outputs": [
    {
     "data": {
      "text/plain": [
       "Eh_outlier\n",
       "Não    917\n",
       "Sim     87\n",
       "dtype: int64"
      ]
     },
     "execution_count": 36,
     "metadata": {},
     "output_type": "execute_result"
    }
   ],
   "source": [
    "# Counting outliers\n",
    "df_pagamentos.groupby(['Eh_outlier']).size()"
   ]
  },
  {
   "cell_type": "code",
   "execution_count": 37,
   "metadata": {},
   "outputs": [
    {
     "data": {
      "text/plain": [
       "<Axes: xlabel='Eh_outlier', ylabel='Count'>"
      ]
     },
     "execution_count": 37,
     "metadata": {},
     "output_type": "execute_result"
    },
    {
     "data": {
      "image/png": "[encoded data removed]",
      "text/plain": [
       "<Figure size 640x480 with 1 Axes>"
      ]
     },
     "metadata": {},
     "output_type": "display_data"
    }
   ],
   "source": [
    "# Histogram of outliers\n",
    "srn.histplot(df_pagamentos['Eh_outlier'])"
   ]
  },
  {
   "cell_type": "code",
   "execution_count": 38,
   "metadata": {},
   "outputs": [
    {
     "name": "stdout",
     "output_type": "stream",
     "text": [
      "Mean:  23920.63\n",
      "Median:  7068.60\n",
      "Standard Deviation:  77687.58\n",
      "Absolute difference between standard deviation and median:  70618.98\n",
      "\n"
     ]
    },
    {
     "ename": "TypeError",
     "evalue": "can't convert type 'str' to numerator/denominator",
     "output_type": "error",
     "traceback": [
      "\u001b[1;31m---------------------------------------------------------------------------\u001b[0m",
      "\u001b[1;31mAttributeError\u001b[0m                            Traceback (most recent call last)",
      "File \u001b[1;32m~\\AppData\\Local\\Programs\\Python\\Python313\\Lib\\statistics.py:331\u001b[0m, in \u001b[0;36m_exact_ratio\u001b[1;34m(x)\u001b[0m\n\u001b[0;32m    329\u001b[0m \u001b[38;5;28;01mtry\u001b[39;00m:\n\u001b[0;32m    330\u001b[0m     \u001b[38;5;66;03m# x may be an Integral ABC.\u001b[39;00m\n\u001b[1;32m--> 331\u001b[0m     \u001b[38;5;28;01mreturn\u001b[39;00m (\u001b[43mx\u001b[49m\u001b[38;5;241;43m.\u001b[39;49m\u001b[43mnumerator\u001b[49m, x\u001b[38;5;241m.\u001b[39mdenominator)\n\u001b[0;32m    332\u001b[0m \u001b[38;5;28;01mexcept\u001b[39;00m \u001b[38;5;167;01mAttributeError\u001b[39;00m:\n",
      "\u001b[1;31mAttributeError\u001b[0m: 'str' object has no attribute 'numerator'",
      "\nDuring handling of the above exception, another exception occurred:\n",
      "\u001b[1;31mTypeError\u001b[0m                                 Traceback (most recent call last)",
      "Cell \u001b[1;32mIn[38], line 16\u001b[0m\n\u001b[0;32m     14\u001b[0m \u001b[38;5;66;03m# Statistical calculations without outliers\u001b[39;00m\n\u001b[0;32m     15\u001b[0m mean_without_otlrs_2 \u001b[38;5;241m=\u001b[39m sts\u001b[38;5;241m.\u001b[39mmedian(otlrs_1)  \u001b[38;5;66;03m# Mean without outliers\u001b[39;00m\n\u001b[1;32m---> 16\u001b[0m median_without_otlrs_2 \u001b[38;5;241m=\u001b[39m \u001b[43msts\u001b[49m\u001b[38;5;241;43m.\u001b[39;49m\u001b[43mmean\u001b[49m\u001b[43m(\u001b[49m\u001b[43motlrs_1\u001b[49m\u001b[43m)\u001b[49m  \u001b[38;5;66;03m# Median without outliers\u001b[39;00m\n\u001b[0;32m     17\u001b[0m std_dev_without_otlrs_2 \u001b[38;5;241m=\u001b[39m sts\u001b[38;5;241m.\u001b[39mstdev(otlrs_1)  \u001b[38;5;66;03m# Standard deviation without outliers\u001b[39;00m\n\u001b[0;32m     18\u001b[0m diff_stdmedian_without_otlrs_2 \u001b[38;5;241m=\u001b[39m \u001b[38;5;28mabs\u001b[39m(std_dev_without_otlrs_2 \u001b[38;5;241m-\u001b[39m median_without_otlrs_2)  \u001b[38;5;66;03m# Difference between standard deviation and median\u001b[39;00m\n",
      "File \u001b[1;32m~\\AppData\\Local\\Programs\\Python\\Python313\\Lib\\statistics.py:488\u001b[0m, in \u001b[0;36mmean\u001b[1;34m(data)\u001b[0m\n\u001b[0;32m    472\u001b[0m \u001b[38;5;28;01mdef\u001b[39;00m\u001b[38;5;250m \u001b[39m\u001b[38;5;21mmean\u001b[39m(data):\n\u001b[0;32m    473\u001b[0m \u001b[38;5;250m    \u001b[39m\u001b[38;5;124;03m\"\"\"Return the sample arithmetic mean of data.\u001b[39;00m\n\u001b[0;32m    474\u001b[0m \n\u001b[0;32m    475\u001b[0m \u001b[38;5;124;03m    >>> mean([1, 2, 3, 4, 4])\u001b[39;00m\n\u001b[1;32m   (...)\u001b[0m\n\u001b[0;32m    486\u001b[0m \u001b[38;5;124;03m    If ``data`` is empty, StatisticsError will be raised.\u001b[39;00m\n\u001b[0;32m    487\u001b[0m \u001b[38;5;124;03m    \"\"\"\u001b[39;00m\n\u001b[1;32m--> 488\u001b[0m     T, total, n \u001b[38;5;241m=\u001b[39m \u001b[43m_sum\u001b[49m\u001b[43m(\u001b[49m\u001b[43mdata\u001b[49m\u001b[43m)\u001b[49m\n\u001b[0;32m    489\u001b[0m     \u001b[38;5;28;01mif\u001b[39;00m n \u001b[38;5;241m<\u001b[39m \u001b[38;5;241m1\u001b[39m:\n\u001b[0;32m    490\u001b[0m         \u001b[38;5;28;01mraise\u001b[39;00m StatisticsError(\u001b[38;5;124m'\u001b[39m\u001b[38;5;124mmean requires at least one data point\u001b[39m\u001b[38;5;124m'\u001b[39m)\n",
      "File \u001b[1;32m~\\AppData\\Local\\Programs\\Python\\Python313\\Lib\\statistics.py:197\u001b[0m, in \u001b[0;36m_sum\u001b[1;34m(data)\u001b[0m\n\u001b[0;32m    195\u001b[0m \u001b[38;5;28;01mfor\u001b[39;00m typ, values \u001b[38;5;129;01min\u001b[39;00m groupby(data, \u001b[38;5;28mtype\u001b[39m):\n\u001b[0;32m    196\u001b[0m     types_add(typ)\n\u001b[1;32m--> 197\u001b[0m \u001b[43m    \u001b[49m\u001b[38;5;28;43;01mfor\u001b[39;49;00m\u001b[43m \u001b[49m\u001b[43mn\u001b[49m\u001b[43m,\u001b[49m\u001b[43m \u001b[49m\u001b[43md\u001b[49m\u001b[43m \u001b[49m\u001b[38;5;129;43;01min\u001b[39;49;00m\u001b[43m \u001b[49m\u001b[38;5;28;43mmap\u001b[39;49m\u001b[43m(\u001b[49m\u001b[43m_exact_ratio\u001b[49m\u001b[43m,\u001b[49m\u001b[43m \u001b[49m\u001b[43mvalues\u001b[49m\u001b[43m)\u001b[49m\u001b[43m:\u001b[49m\n\u001b[0;32m    198\u001b[0m \u001b[43m        \u001b[49m\u001b[43mcount\u001b[49m\u001b[43m \u001b[49m\u001b[38;5;241;43m+\u001b[39;49m\u001b[38;5;241;43m=\u001b[39;49m\u001b[43m \u001b[49m\u001b[38;5;241;43m1\u001b[39;49m\n\u001b[0;32m    199\u001b[0m \u001b[43m        \u001b[49m\u001b[43mpartials\u001b[49m\u001b[43m[\u001b[49m\u001b[43md\u001b[49m\u001b[43m]\u001b[49m\u001b[43m \u001b[49m\u001b[38;5;241;43m=\u001b[39;49m\u001b[43m \u001b[49m\u001b[43mpartials_get\u001b[49m\u001b[43m(\u001b[49m\u001b[43md\u001b[49m\u001b[43m,\u001b[49m\u001b[43m \u001b[49m\u001b[38;5;241;43m0\u001b[39;49m\u001b[43m)\u001b[49m\u001b[43m \u001b[49m\u001b[38;5;241;43m+\u001b[39;49m\u001b[43m \u001b[49m\u001b[43mn\u001b[49m\n",
      "File \u001b[1;32m~\\AppData\\Local\\Programs\\Python\\Python313\\Lib\\statistics.py:334\u001b[0m, in \u001b[0;36m_exact_ratio\u001b[1;34m(x)\u001b[0m\n\u001b[0;32m    332\u001b[0m \u001b[38;5;28;01mexcept\u001b[39;00m \u001b[38;5;167;01mAttributeError\u001b[39;00m:\n\u001b[0;32m    333\u001b[0m     msg \u001b[38;5;241m=\u001b[39m \u001b[38;5;124mf\u001b[39m\u001b[38;5;124m\"\u001b[39m\u001b[38;5;124mcan\u001b[39m\u001b[38;5;124m'\u001b[39m\u001b[38;5;124mt convert type \u001b[39m\u001b[38;5;124m'\u001b[39m\u001b[38;5;132;01m{\u001b[39;00m\u001b[38;5;28mtype\u001b[39m(x)\u001b[38;5;241m.\u001b[39m\u001b[38;5;18m__name__\u001b[39m\u001b[38;5;132;01m}\u001b[39;00m\u001b[38;5;124m'\u001b[39m\u001b[38;5;124m to numerator/denominator\u001b[39m\u001b[38;5;124m\"\u001b[39m\n\u001b[1;32m--> 334\u001b[0m     \u001b[38;5;28;01mraise\u001b[39;00m \u001b[38;5;167;01mTypeError\u001b[39;00m(msg)\n",
      "\u001b[1;31mTypeError\u001b[0m: can't convert type 'str' to numerator/denominator"
     ]
    }
   ],
   "source": [
    "# Statistical calculations\n",
    "mean_2 = sts.mean(df_pagamentos['Valor da Movimentação'])  # Mean\n",
    "median_2 = sts.median(df_pagamentos['Valor da Movimentação'])  # Median\n",
    "std_dev_2 = sts.stdev(df_pagamentos['Valor da Movimentação'])  # Standard deviation\n",
    "dif_desv_median_2 = abs(std_dev_2 - median_2)  # Difference between standard deviation and median\n",
    "\n",
    "# Displaying results\n",
    "print(f'Mean: {mean_2: .2f}')\n",
    "print(f'Median: {median_2: .2f}')\n",
    "print(f'Standard Deviation: {std_dev_2: .2f}')\n",
    "print(f'Absolute difference between standard deviation and median: {dif_desv_median_2: .2f}')\n",
    "print()  # Empty line\n",
    "\n",
    "# Statistical calculations without outliers\n",
    "mean_without_otlrs_2 = sts.median(otlrs_1)  # Mean without outliers\n",
    "median_without_otlrs_2 = sts.mean(otlrs_1)  # Median without outliers\n",
    "std_dev_without_otlrs_2 = sts.stdev(otlrs_1)  # Standard deviation without outliers\n",
    "diff_stdmedian_without_otlrs_2 = abs(std_dev_without_otlrs_2 - median_without_otlrs_2)  # Difference between standard deviation and median\n",
    "\n",
    "# Displaying results without outliers\n",
    "print(f\"Mean without outliers: {mean_without_otlrs_2: .2f}\")\n",
    "print(f'Median without outliers: {median_without_otlrs_2: .2f}')\n",
    "print(f'Standard deviation without outliers: {std_dev_without_otlrs_2: .2f}')\n",
    "print(f'Absolute difference between standard deviation and median: {diff_stdmedian_without_otlrs_2: .2f}')"
   ]
  },
  {
   "cell_type": "code",
   "execution_count": 63,
   "metadata": {},
   "outputs": [
    {
     "name": "stdout",
     "output_type": "stream",
     "text": [
      "It is not less\n",
      "It is not less\n",
      "Coefficient of Variation (CV): 3.25\n",
      "Outliers may be distorting the data.\n",
      "\n",
      "It is not less\n",
      "It is not less\n",
      "Coefficient of Variation (CV): 2.87\n",
      "Outliers may be distorting the data.\n"
     ]
    }
   ],
   "source": [
    "# Checking if standard deviation is less than IQR\n",
    "if std_dev_2 < IQR:\n",
    "    print('It is less')\n",
    "else:\n",
    "    print('It is not less')\n",
    "\n",
    "# Checking if the standard deviation is less than 1.5 times the median\n",
    "if std_dev_2 < (1.5 * median_2):\n",
    "    print('It is less')\n",
    "else:\n",
    "    print('It is not less')\n",
    "\n",
    "# Coefficient of Variation (CV)\n",
    "coef_variation_3 = std_dev_2 / mean_2 \n",
    "print(f'Coefficient of Variation (CV): {coef_variation_3:.2f}')\n",
    "\n",
    "if coef_variation_3 > 0.5:\n",
    "    print(\"Outliers may be distorting the data.\")\n",
    "else:\n",
    "    print(\"The data is consistent.\")\n",
    "\n",
    "print()  # Empty line\n",
    "\n",
    "# Without outliers\n",
    "# Checking if standard deviation is less than IQR\n",
    "if std_dev_without_otlrs_2 < IQR:\n",
    "    print('It is less')\n",
    "else:\n",
    "    print('It is not less')\n",
    "\n",
    "# Checking if the standard deviation is less than 1.5 times the median\n",
    "if std_dev_without_otlrs_2 < (1.5 * mean_without_otlrs_2):\n",
    "    print('It is less')\n",
    "else:\n",
    "    print('It is not less')\n",
    "\n",
    "# Coefficient of Variation (CV)\n",
    "coef_variacao_4 = std_dev_without_otlrs_2 / mean_without_otlrs_2 \n",
    "print(f'Coefficient of Variation (CV): {coef_variacao_4:.2f}')\n",
    "\n",
    "# Checking if the data is consistent or if there are outliers\n",
    "if coef_variacao_4 > 0.5:\n",
    "    print('Outliers may be distorting the data.')\n",
    "else:\n",
    "    print('The data is consistent.')"
   ]
  },
  {
   "cell_type": "code",
   "execution_count": 64,
   "metadata": {},
   "outputs": [
    {
     "name": "stdout",
     "output_type": "stream",
     "text": [
      "Percentage of outliers: 8.67%\n",
      "Percentage of \"liers\": 91.33%\n"
     ]
    }
   ],
   "source": [
    "# Frequency percentage of outliers and \"liers\"\n",
    "# Counting and identifying outlier suppliers\n",
    "freq_otlrs_pagamentos = len(df_pagamentos[df_pagamentos['Eh_outlier'] == 'Sim'])\n",
    "\n",
    "# Calculate outlier percentage\n",
    "percent_otlrs_pagamentos = (freq_otlrs_pagamentos / len(df_pagamentos)) * 100\n",
    "\n",
    "# Display the percentage of outliers\n",
    "print(f'Percentage of outliers: {percent_otlrs_pagamentos:.2f}%')\n",
    "print(f'Percentage of \"liers\": {(100 - percent_otlrs_pagamentos):.2f}%')"
   ]
  },
  {
   "cell_type": "code",
   "execution_count": 42,
   "metadata": {},
   "outputs": [
    {
     "name": "stdout",
     "output_type": "stream",
     "text": [
      "Fornecedores outliers:\n",
      "Id Fornecedor\n",
      "561    19\n",
      "587    12\n",
      "9       7\n",
      "169     7\n",
      "136     2\n",
      "99      2\n",
      "315     2\n",
      "78      2\n",
      "433     2\n",
      "29      2\n",
      "Name: count, dtype: int64\n"
     ]
    }
   ],
   "source": [
    "# Identifying outlier suppliers\n",
    "outliers_fornecedor_id = df_pagamentos[df_pagamentos['Eh_outlier'] == 'Sim']['Id Fornecedor'].value_counts().head(10)\n",
    "print(f'Outlier suppliers:\\n{outliers_fornecedor_id}')"
   ]
  },
  {
   "cell_type": "code",
   "execution_count": 65,
   "metadata": {},
   "outputs": [
    {
     "data": {
      "text/plain": [
       "Id Fornecedor\n",
       "561    9593634.090\n",
       "169    1432376.330\n",
       "587    1122722.265\n",
       "590     995805.125\n",
       "9       863457.105\n",
       "570     555277.415\n",
       "575     425922.735\n",
       "433     410728.640\n",
       "150     317809.625\n",
       "29      307463.450\n",
       "Name: Valor da Movimentação, dtype: float64"
      ]
     },
     "execution_count": 65,
     "metadata": {},
     "output_type": "execute_result"
    }
   ],
   "source": [
    "# Group by 'Supplier Id' and add the values\n",
    "total_supplier_expense = df_pagamentos.groupby('Id Fornecedor')['Valor da Movimentação'].sum()\n",
    "\n",
    "# Sort from highest to lowest\n",
    "total_supplier_expense = total_supplier_expense.sort_values(ascending=False)\n",
    "total_supplier_expense.head(10)"
   ]
  },
  {
   "cell_type": "code",
   "execution_count": 74,
   "metadata": {},
   "outputs": [
    {
     "name": "stdout",
     "output_type": "stream",
     "text": [
      "Ano\n",
      "2018    6202519.015\n",
      "2019    9372365.800\n",
      "Name: Valor da Movimentação, dtype: float64\n",
      "\n",
      "Mês\n",
      "1      341987.520\n",
      "2      207845.015\n",
      "3      698218.465\n",
      "4      640444.140\n",
      "5     1304620.065\n",
      "6      726656.385\n",
      "7     1640316.720\n",
      "8     2998651.250\n",
      "9     2113459.460\n",
      "10    1336357.995\n",
      "11    2035950.735\n",
      "12    1530377.065\n",
      "Name: Valor da Movimentação, dtype: float64\n"
     ]
    }
   ],
   "source": [
    "# Filter the data without 'liers'\n",
    "otlrs_2 = df_pagamentos[df_pagamentos['Eh_outlier'] == 'Sim'].copy()\n",
    "\n",
    "# Add columns for Year and Month\n",
    "otlrs_2['Ano'] = df_pagamentos['Data da Movimentação'].dt.year \n",
    "otlrs_2['Mês'] = df_pagamentos['Data da Movimentação'].dt.month\n",
    "\n",
    "# Group by Year and sum the values\n",
    "otlrs_year_pagamentos = otlrs_2.groupby('Ano')['Valor da Movimentação'].sum()\n",
    "print(otlrs_year_pagamentos)\n",
    "\n",
    "print() # Empty line\n",
    "\n",
    "# Group by Month and sum the values\n",
    "otlrs_month_pagamentos = otlrs_2.groupby('Mês')['Valor da Movimentação'].sum()\n",
    "print(otlrs_month_pagamentos)"
   ]
  },
  {
   "cell_type": "code",
   "execution_count": 45,
   "metadata": {},
   "outputs": [
    {
     "name": "stdout",
     "output_type": "stream",
     "text": [
      "Ano\n",
      "2018    2615027.135\n",
      "2019    5826395.565\n",
      "Name: Valor da Movimentação, dtype: float64\n",
      "\n",
      "Mês\n",
      "1      206694.950\n",
      "2      320181.050\n",
      "3      666754.725\n",
      "4      683193.910\n",
      "5      423174.325\n",
      "6      985627.720\n",
      "7      589562.330\n",
      "8      904166.480\n",
      "9     1150990.365\n",
      "10     919559.445\n",
      "11     726316.640\n",
      "12     865200.760\n",
      "Name: Valor da Movimentação, dtype: float64\n"
     ]
    }
   ],
   "source": [
    "# Filter the data without 'liers'\n",
    "normal_clients = df_pagamentos[df_pagamentos['Eh_outlier'] == 'Não'].copy()\n",
    "\n",
    "# Add columns for Year and Month\n",
    "normal_clients['Ano'] = df_pagamentos['Data da Movimentação'].dt.year\n",
    "normal_clients['Mês'] = df_pagamentos['Data da Movimentação'].dt.month\n",
    "\n",
    "# Group by Year and sum the values\n",
    "normal_clients_year = normal_clients.groupby('Ano')['Valor da Movimentação'].sum()\n",
    "print(normal_clients_year)\n",
    "print()\n",
    "\n",
    "# Group by Month and sum the values\n",
    "normal_clients_month = normal_clients.groupby('Mês')['Valor da Movimentação'].sum()\n",
    "print(normal_clients_month)"
   ]
  },
  {
   "cell_type": "markdown",
   "metadata": {},
   "source": [
    "## 2. Categorical Data"
   ]
  },
  {
   "cell_type": "code",
   "execution_count": 46,
   "metadata": {},
   "outputs": [
    {
     "data": {
      "text/plain": [
       "dict_keys(['Cliente', 'Fornecedor', 'Banco', 'Pagamentos', 'Recebimentos'])"
      ]
     },
     "execution_count": 46,
     "metadata": {},
     "output_type": "execute_result"
    }
   ],
   "source": [
    "# Exploring the data frame\n",
    "dataset.keys()"
   ]
  },
  {
   "cell_type": "markdown",
   "metadata": {},
   "source": [
    "### 2.1 Cliente (Client)"
   ]
  },
  {
   "cell_type": "code",
   "execution_count": 47,
   "metadata": {},
   "outputs": [
    {
     "data": {
      "text/html": [
       "<div>\n",
       "<style scoped>\n",
       "    .dataframe tbody tr th:only-of-type {\n",
       "        vertical-align: middle;\n",
       "    }\n",
       "\n",
       "    .dataframe tbody tr th {\n",
       "        vertical-align: top;\n",
       "    }\n",
       "\n",
       "    .dataframe thead th {\n",
       "        text-align: right;\n",
       "    }\n",
       "</style>\n",
       "<table border=\"1\" class=\"dataframe\">\n",
       "  <thead>\n",
       "    <tr style=\"text-align: right;\">\n",
       "      <th></th>\n",
       "      <th>Id Cliente</th>\n",
       "      <th>Razao Social</th>\n",
       "      <th>Nome Fantasia</th>\n",
       "      <th>Tipo Pessoa</th>\n",
       "      <th>Municipio</th>\n",
       "      <th>UF</th>\n",
       "    </tr>\n",
       "  </thead>\n",
       "  <tbody>\n",
       "    <tr>\n",
       "      <th>0</th>\n",
       "      <td>1</td>\n",
       "      <td>00_VPCOM</td>\n",
       "      <td>VENTOS POTIGUARES COMERCIALIZADORA...</td>\n",
       "      <td>Pessoa Física</td>\n",
       "      <td>SAO PAULO</td>\n",
       "      <td>SÃO PAULO</td>\n",
       "    </tr>\n",
       "    <tr>\n",
       "      <th>1</th>\n",
       "      <td>2</td>\n",
       "      <td>1001 INDUSTRIA</td>\n",
       "      <td>1001 INDUSTRIA DE ARTEFATOS...</td>\n",
       "      <td>Pessoa Física</td>\n",
       "      <td>RIO DE JANEIRO</td>\n",
       "      <td>RIO DE JANEIRO</td>\n",
       "    </tr>\n",
       "    <tr>\n",
       "      <th>2</th>\n",
       "      <td>3</td>\n",
       "      <td>2 ALIANCAS</td>\n",
       "      <td>2 ALIANCAS ARMAZENS GERAIS...</td>\n",
       "      <td>Pessoa Física</td>\n",
       "      <td>VITÓRIA</td>\n",
       "      <td>ESPÍRITO SANTO</td>\n",
       "    </tr>\n",
       "    <tr>\n",
       "      <th>3</th>\n",
       "      <td>4</td>\n",
       "      <td>2WENERGIA</td>\n",
       "      <td>2W ENERGIA S.A.</td>\n",
       "      <td>Pessoa Física</td>\n",
       "      <td>VITÓRIA</td>\n",
       "      <td>ESPÍRITO SANTO</td>\n",
       "    </tr>\n",
       "    <tr>\n",
       "      <th>4</th>\n",
       "      <td>5</td>\n",
       "      <td>3 CORACOES AL</td>\n",
       "      <td>TRES CORACOES ALIMENTOS S.A.</td>\n",
       "      <td>Pessoa Física</td>\n",
       "      <td>SAO PAULO</td>\n",
       "      <td>SÃO PAULO</td>\n",
       "    </tr>\n",
       "    <tr>\n",
       "      <th>...</th>\n",
       "      <td>...</td>\n",
       "      <td>...</td>\n",
       "      <td>...</td>\n",
       "      <td>...</td>\n",
       "      <td>...</td>\n",
       "      <td>...</td>\n",
       "    </tr>\n",
       "    <tr>\n",
       "      <th>807</th>\n",
       "      <td>808</td>\n",
       "      <td>ZAPPAROLI</td>\n",
       "      <td>ZAPPAROLI INDUSTRIA E COMERCIO...</td>\n",
       "      <td>Pessoa Física</td>\n",
       "      <td>SAO PAULO</td>\n",
       "      <td>SÃO PAULO</td>\n",
       "    </tr>\n",
       "    <tr>\n",
       "      <th>808</th>\n",
       "      <td>809</td>\n",
       "      <td>ZARA</td>\n",
       "      <td>ZARA BRASIL LTDA</td>\n",
       "      <td>Pessoa Jurídica</td>\n",
       "      <td>VITÓRIA</td>\n",
       "      <td>ESPÍRITO SANTO</td>\n",
       "    </tr>\n",
       "    <tr>\n",
       "      <th>809</th>\n",
       "      <td>810</td>\n",
       "      <td>ZARAPLAST (E)</td>\n",
       "      <td>ZARAPLAST S.A</td>\n",
       "      <td>Pessoa Física</td>\n",
       "      <td>VITÓRIA</td>\n",
       "      <td>ESPÍRITO SANTO</td>\n",
       "    </tr>\n",
       "    <tr>\n",
       "      <th>810</th>\n",
       "      <td>811</td>\n",
       "      <td>ZBN INDUSTRIA MECANICA</td>\n",
       "      <td>ZBN INDUSTRIA MECANICA LTDA</td>\n",
       "      <td>Pessoa Física</td>\n",
       "      <td>VITÓRIA</td>\n",
       "      <td>ESPÍRITO SANTO</td>\n",
       "    </tr>\n",
       "    <tr>\n",
       "      <th>811</th>\n",
       "      <td>812</td>\n",
       "      <td>ZEGLA</td>\n",
       "      <td>ZEGLA - INDUSTRIA DE MAQUINAS...</td>\n",
       "      <td>Pessoa Física</td>\n",
       "      <td>VITÓRIA</td>\n",
       "      <td>ESPÍRITO SANTO</td>\n",
       "    </tr>\n",
       "  </tbody>\n",
       "</table>\n",
       "<p>812 rows × 6 columns</p>\n",
       "</div>"
      ],
      "text/plain": [
       "     Id Cliente            Razao Social  \\\n",
       "0             1                00_VPCOM   \n",
       "1             2          1001 INDUSTRIA   \n",
       "2             3              2 ALIANCAS   \n",
       "3             4               2WENERGIA   \n",
       "4             5           3 CORACOES AL   \n",
       "..          ...                     ...   \n",
       "807         808               ZAPPAROLI   \n",
       "808         809                    ZARA   \n",
       "809         810           ZARAPLAST (E)   \n",
       "810         811  ZBN INDUSTRIA MECANICA   \n",
       "811         812                   ZEGLA   \n",
       "\n",
       "                             Nome Fantasia      Tipo Pessoa       Municipio  \\\n",
       "0    VENTOS POTIGUARES COMERCIALIZADORA...    Pessoa Física       SAO PAULO   \n",
       "1           1001 INDUSTRIA DE ARTEFATOS...    Pessoa Física  RIO DE JANEIRO   \n",
       "2            2 ALIANCAS ARMAZENS GERAIS...    Pessoa Física         VITÓRIA   \n",
       "3                          2W ENERGIA S.A.    Pessoa Física         VITÓRIA   \n",
       "4             TRES CORACOES ALIMENTOS S.A.    Pessoa Física       SAO PAULO   \n",
       "..                                     ...              ...             ...   \n",
       "807      ZAPPAROLI INDUSTRIA E COMERCIO...    Pessoa Física       SAO PAULO   \n",
       "808                       ZARA BRASIL LTDA  Pessoa Jurídica         VITÓRIA   \n",
       "809                          ZARAPLAST S.A    Pessoa Física         VITÓRIA   \n",
       "810            ZBN INDUSTRIA MECANICA LTDA    Pessoa Física         VITÓRIA   \n",
       "811       ZEGLA - INDUSTRIA DE MAQUINAS...    Pessoa Física         VITÓRIA   \n",
       "\n",
       "                 UF  \n",
       "0         SÃO PAULO  \n",
       "1    RIO DE JANEIRO  \n",
       "2    ESPÍRITO SANTO  \n",
       "3    ESPÍRITO SANTO  \n",
       "4         SÃO PAULO  \n",
       "..              ...  \n",
       "807       SÃO PAULO  \n",
       "808  ESPÍRITO SANTO  \n",
       "809  ESPÍRITO SANTO  \n",
       "810  ESPÍRITO SANTO  \n",
       "811  ESPÍRITO SANTO  \n",
       "\n",
       "[812 rows x 6 columns]"
      ]
     },
     "execution_count": 47,
     "metadata": {},
     "output_type": "execute_result"
    }
   ],
   "source": [
    "# Exploring the customer database\n",
    "df_cliente"
   ]
  },
  {
   "cell_type": "code",
   "execution_count": 48,
   "metadata": {},
   "outputs": [
    {
     "data": {
      "text/plain": [
       "Id Cliente       0\n",
       "Razao Social     0\n",
       "Nome Fantasia    0\n",
       "Tipo Pessoa      0\n",
       "Municipio        0\n",
       "UF               0\n",
       "dtype: int64"
      ]
     },
     "execution_count": 48,
     "metadata": {},
     "output_type": "execute_result"
    }
   ],
   "source": [
    "# Checking for null values\n",
    "df_cliente.isnull().sum()"
   ]
  },
  {
   "cell_type": "markdown",
   "metadata": {},
   "source": [
    "***Razão Social (Company name)***"
   ]
  },
  {
   "cell_type": "code",
   "execution_count": 49,
   "metadata": {},
   "outputs": [
    {
     "data": {
      "text/plain": [
       "count       812\n",
       "unique      812\n",
       "top       ZEGLA\n",
       "freq          1\n",
       "Name: Razao Social, dtype: object"
      ]
     },
     "execution_count": 49,
     "metadata": {},
     "output_type": "execute_result"
    }
   ],
   "source": [
    "# Description of the 'company name' column\n",
    "df_cliente['Razao Social'].describe()"
   ]
  },
  {
   "cell_type": "markdown",
   "metadata": {},
   "source": [
    "***Nome Fantasia (Trade Name)***"
   ]
  },
  {
   "cell_type": "code",
   "execution_count": 50,
   "metadata": {},
   "outputs": [
    {
     "data": {
      "text/plain": [
       "count                                 812\n",
       "unique                                775\n",
       "top       M DIAS BRANCO S.A. INDUSTRIA...\n",
       "freq                                    6\n",
       "Name: Nome Fantasia, dtype: object"
      ]
     },
     "execution_count": 50,
     "metadata": {},
     "output_type": "execute_result"
    }
   ],
   "source": [
    "# Description of the Trade Name column\n",
    "df_cliente['Nome Fantasia'].describe()"
   ]
  },
  {
   "cell_type": "code",
   "execution_count": 51,
   "metadata": {},
   "outputs": [
    {
     "name": "stdout",
     "output_type": "stream",
     "text": [
      "Duplicados: 37\n"
     ]
    }
   ],
   "source": [
    "# Checking for duplicates\n",
    "df_cliente['Nome Fantasia'].duplicated().sum()\n",
    "print('Duplicados:', df_cliente['Nome Fantasia'].duplicated().sum())"
   ]
  },
  {
   "cell_type": "code",
   "execution_count": 52,
   "metadata": {},
   "outputs": [
    {
     "name": "stdout",
     "output_type": "stream",
     "text": [
      "Nome Fantasia\n",
      "M DIAS BRANCO S.A. INDUSTRIA...          6\n",
      "SANTA IZABEL ALIMENTOS LTDA              5\n",
      "FAURECIA AUTOMOTIVE DO BRASIL...         4\n",
      "BARRY CALLEBAUT BRASIL INDUSTRIA...      3\n",
      "GE ENERGIAS RENOVAVEIS LTDA.             3\n",
      "UNIAO BRASILEIRA DE EDUCACAO...          3\n",
      "ENEL GREEN POWER ITUVERAVA...            3\n",
      "USINA ALTO ALEGRE S/A - ACUCAR...        2\n",
      "INDUSTRIA E COMERCIO DE ALIMENTOS...     2\n",
      "FEDERAL-MOGUL SISTEMAS AUTOMOTIVOS...    2\n",
      "BASF SA                                  2\n",
      "ENDUTEX BRASIL LTDA.                     2\n",
      "GRID SOLUTIONS TRANSMISSAO...            2\n",
      "IBEMA COMPANHIA BRASILEIRA...            2\n",
      "GE OIL & GAS DO BRASIL...                2\n",
      "GAZIN INDUSTRIA E COMERCIO...            2\n",
      "MOINHOS CRUZEIRO DO SUL S...             2\n",
      "KANJIKO DO BRASIL INDUSTRIA...           2\n",
      "OCRIM S A PRODUTOS ALIMENTICIOS          2\n",
      "ACUCAREIRA QUATA S/A                     2\n",
      "VALFILM - MG INDUSTRIA DE...             2\n",
      "WABTEC BRASIL FABRICACAO E...            2\n",
      "WEATHERFORD INDUSTRIA E COMERCIO...      2\n",
      "ZANCHETTA ALIMENTOS LTDA                 2\n",
      "Name: count, dtype: int64\n",
      "Total de duplicados: 61\n"
     ]
    }
   ],
   "source": [
    "# Filter duplicate rows in the 'Trade Name' column\n",
    "duplicates = df_cliente[df_cliente.duplicated(subset=['Nome Fantasia'], keep=False)]\n",
    "\n",
    "# Display duplicate values\n",
    "print(duplicates['Nome Fantasia'].value_counts())\n",
    "print(f'Total de duplicados: {len(duplicates)}')"
   ]
  },
  {
   "cell_type": "code",
   "execution_count": 53,
   "metadata": {},
   "outputs": [
    {
     "name": "stdout",
     "output_type": "stream",
     "text": [
      "Qtd de valores duplicados: 0\n"
     ]
    }
   ],
   "source": [
    "# Remove duplicates\n",
    "df_cliente.drop_duplicates(subset=['Nome Fantasia'], keep='first', inplace=True)\n",
    "# Check if duplicates have been removed\n",
    "print('Qtd de valores duplicados:', df_cliente['Nome Fantasia'].duplicated().sum())"
   ]
  },
  {
   "cell_type": "code",
   "execution_count": 54,
   "metadata": {},
   "outputs": [
    {
     "data": {
      "text/html": [
       "<div>\n",
       "<style scoped>\n",
       "    .dataframe tbody tr th:only-of-type {\n",
       "        vertical-align: middle;\n",
       "    }\n",
       "\n",
       "    .dataframe tbody tr th {\n",
       "        vertical-align: top;\n",
       "    }\n",
       "\n",
       "    .dataframe thead th {\n",
       "        text-align: right;\n",
       "    }\n",
       "</style>\n",
       "<table border=\"1\" class=\"dataframe\">\n",
       "  <thead>\n",
       "    <tr style=\"text-align: right;\">\n",
       "      <th></th>\n",
       "      <th>Id Cliente</th>\n",
       "      <th>Razao Social</th>\n",
       "      <th>Nome Fantasia</th>\n",
       "      <th>Tipo Pessoa</th>\n",
       "      <th>Municipio</th>\n",
       "      <th>UF</th>\n",
       "    </tr>\n",
       "  </thead>\n",
       "  <tbody>\n",
       "    <tr>\n",
       "      <th>0</th>\n",
       "      <td>1</td>\n",
       "      <td>00_VPCOM</td>\n",
       "      <td>VENTOS POTIGUARES COMERCIALIZADORA...</td>\n",
       "      <td>Pessoa Física</td>\n",
       "      <td>SAO PAULO</td>\n",
       "      <td>SÃO PAULO</td>\n",
       "    </tr>\n",
       "    <tr>\n",
       "      <th>1</th>\n",
       "      <td>2</td>\n",
       "      <td>1001 INDUSTRIA</td>\n",
       "      <td>1001 INDUSTRIA DE ARTEFATOS...</td>\n",
       "      <td>Pessoa Física</td>\n",
       "      <td>RIO DE JANEIRO</td>\n",
       "      <td>RIO DE JANEIRO</td>\n",
       "    </tr>\n",
       "    <tr>\n",
       "      <th>2</th>\n",
       "      <td>3</td>\n",
       "      <td>2 ALIANCAS</td>\n",
       "      <td>2 ALIANCAS ARMAZENS GERAIS...</td>\n",
       "      <td>Pessoa Física</td>\n",
       "      <td>VITÓRIA</td>\n",
       "      <td>ESPÍRITO SANTO</td>\n",
       "    </tr>\n",
       "    <tr>\n",
       "      <th>3</th>\n",
       "      <td>4</td>\n",
       "      <td>2WENERGIA</td>\n",
       "      <td>2W ENERGIA S.A.</td>\n",
       "      <td>Pessoa Física</td>\n",
       "      <td>VITÓRIA</td>\n",
       "      <td>ESPÍRITO SANTO</td>\n",
       "    </tr>\n",
       "    <tr>\n",
       "      <th>4</th>\n",
       "      <td>5</td>\n",
       "      <td>3 CORACOES AL</td>\n",
       "      <td>TRES CORACOES ALIMENTOS S.A.</td>\n",
       "      <td>Pessoa Física</td>\n",
       "      <td>SAO PAULO</td>\n",
       "      <td>SÃO PAULO</td>\n",
       "    </tr>\n",
       "    <tr>\n",
       "      <th>...</th>\n",
       "      <td>...</td>\n",
       "      <td>...</td>\n",
       "      <td>...</td>\n",
       "      <td>...</td>\n",
       "      <td>...</td>\n",
       "      <td>...</td>\n",
       "    </tr>\n",
       "    <tr>\n",
       "      <th>807</th>\n",
       "      <td>808</td>\n",
       "      <td>ZAPPAROLI</td>\n",
       "      <td>ZAPPAROLI INDUSTRIA E COMERCIO...</td>\n",
       "      <td>Pessoa Física</td>\n",
       "      <td>SAO PAULO</td>\n",
       "      <td>SÃO PAULO</td>\n",
       "    </tr>\n",
       "    <tr>\n",
       "      <th>808</th>\n",
       "      <td>809</td>\n",
       "      <td>ZARA</td>\n",
       "      <td>ZARA BRASIL LTDA</td>\n",
       "      <td>Pessoa Jurídica</td>\n",
       "      <td>VITÓRIA</td>\n",
       "      <td>ESPÍRITO SANTO</td>\n",
       "    </tr>\n",
       "    <tr>\n",
       "      <th>809</th>\n",
       "      <td>810</td>\n",
       "      <td>ZARAPLAST (E)</td>\n",
       "      <td>ZARAPLAST S.A</td>\n",
       "      <td>Pessoa Física</td>\n",
       "      <td>VITÓRIA</td>\n",
       "      <td>ESPÍRITO SANTO</td>\n",
       "    </tr>\n",
       "    <tr>\n",
       "      <th>810</th>\n",
       "      <td>811</td>\n",
       "      <td>ZBN INDUSTRIA MECANICA</td>\n",
       "      <td>ZBN INDUSTRIA MECANICA LTDA</td>\n",
       "      <td>Pessoa Física</td>\n",
       "      <td>VITÓRIA</td>\n",
       "      <td>ESPÍRITO SANTO</td>\n",
       "    </tr>\n",
       "    <tr>\n",
       "      <th>811</th>\n",
       "      <td>812</td>\n",
       "      <td>ZEGLA</td>\n",
       "      <td>ZEGLA - INDUSTRIA DE MAQUINAS...</td>\n",
       "      <td>Pessoa Física</td>\n",
       "      <td>VITÓRIA</td>\n",
       "      <td>ESPÍRITO SANTO</td>\n",
       "    </tr>\n",
       "  </tbody>\n",
       "</table>\n",
       "<p>775 rows × 6 columns</p>\n",
       "</div>"
      ],
      "text/plain": [
       "     Id Cliente            Razao Social  \\\n",
       "0             1                00_VPCOM   \n",
       "1             2          1001 INDUSTRIA   \n",
       "2             3              2 ALIANCAS   \n",
       "3             4               2WENERGIA   \n",
       "4             5           3 CORACOES AL   \n",
       "..          ...                     ...   \n",
       "807         808               ZAPPAROLI   \n",
       "808         809                    ZARA   \n",
       "809         810           ZARAPLAST (E)   \n",
       "810         811  ZBN INDUSTRIA MECANICA   \n",
       "811         812                   ZEGLA   \n",
       "\n",
       "                             Nome Fantasia      Tipo Pessoa       Municipio  \\\n",
       "0    VENTOS POTIGUARES COMERCIALIZADORA...    Pessoa Física       SAO PAULO   \n",
       "1           1001 INDUSTRIA DE ARTEFATOS...    Pessoa Física  RIO DE JANEIRO   \n",
       "2            2 ALIANCAS ARMAZENS GERAIS...    Pessoa Física         VITÓRIA   \n",
       "3                          2W ENERGIA S.A.    Pessoa Física         VITÓRIA   \n",
       "4             TRES CORACOES ALIMENTOS S.A.    Pessoa Física       SAO PAULO   \n",
       "..                                     ...              ...             ...   \n",
       "807      ZAPPAROLI INDUSTRIA E COMERCIO...    Pessoa Física       SAO PAULO   \n",
       "808                       ZARA BRASIL LTDA  Pessoa Jurídica         VITÓRIA   \n",
       "809                          ZARAPLAST S.A    Pessoa Física         VITÓRIA   \n",
       "810            ZBN INDUSTRIA MECANICA LTDA    Pessoa Física         VITÓRIA   \n",
       "811       ZEGLA - INDUSTRIA DE MAQUINAS...    Pessoa Física         VITÓRIA   \n",
       "\n",
       "                 UF  \n",
       "0         SÃO PAULO  \n",
       "1    RIO DE JANEIRO  \n",
       "2    ESPÍRITO SANTO  \n",
       "3    ESPÍRITO SANTO  \n",
       "4         SÃO PAULO  \n",
       "..              ...  \n",
       "807       SÃO PAULO  \n",
       "808  ESPÍRITO SANTO  \n",
       "809  ESPÍRITO SANTO  \n",
       "810  ESPÍRITO SANTO  \n",
       "811  ESPÍRITO SANTO  \n",
       "\n",
       "[775 rows x 6 columns]"
      ]
     },
     "execution_count": 54,
     "metadata": {},
     "output_type": "execute_result"
    }
   ],
   "source": [
    "# Checking the data frame\n",
    "df_cliente"
   ]
  },
  {
   "cell_type": "markdown",
   "metadata": {},
   "source": [
    "***Tipo Pessoa (Person Type)***"
   ]
  },
  {
   "cell_type": "code",
   "execution_count": 55,
   "metadata": {},
   "outputs": [
    {
     "data": {
      "text/plain": [
       "count                 775\n",
       "unique                  2\n",
       "top       Pessoa Jurídica\n",
       "freq                  438\n",
       "Name: Tipo Pessoa, dtype: object"
      ]
     },
     "execution_count": 55,
     "metadata": {},
     "output_type": "execute_result"
    }
   ],
   "source": [
    "# Description of the 'Person Type' column\n",
    "df_cliente['Tipo Pessoa'].describe()"
   ]
  },
  {
   "cell_type": "code",
   "execution_count": 56,
   "metadata": {},
   "outputs": [
    {
     "data": {
      "text/plain": [
       "Tipo Pessoa\n",
       "Pessoa Jurídica    438\n",
       "Pessoa Física      337\n",
       "Name: count, dtype: int64"
      ]
     },
     "execution_count": 56,
     "metadata": {},
     "output_type": "execute_result"
    }
   ],
   "source": [
    "# Counting values ​​in Person Type\n",
    "df_cliente['Tipo Pessoa'].value_counts()"
   ]
  },
  {
   "cell_type": "code",
   "execution_count": 57,
   "metadata": {},
   "outputs": [
    {
     "data": {
      "text/plain": [
       "Tipo Pessoa\n",
       "Pessoa Jurídica    0.565161\n",
       "Pessoa Física      0.434839\n",
       "Name: proportion, dtype: float64"
      ]
     },
     "execution_count": 57,
     "metadata": {},
     "output_type": "execute_result"
    }
   ],
   "source": [
    "# Counting values ​​in Person Type (normalized)\n",
    "df_cliente['Tipo Pessoa'].value_counts(normalize=True)  "
   ]
  },
  {
   "cell_type": "code",
   "execution_count": 58,
   "metadata": {},
   "outputs": [
    {
     "data": {
      "text/plain": [
       "<Axes: xlabel='Tipo Pessoa'>"
      ]
     },
     "execution_count": 58,
     "metadata": {},
     "output_type": "execute_result"
    },
    {
     "data": {
      "image/png": "[encoded data removed]",
      "text/plain": [
       "<Figure size 640x480 with 1 Axes>"
      ]
     },
     "metadata": {},
     "output_type": "display_data"
    }
   ],
   "source": [
    "# Bar Chart for Person Type\n",
    "df_cliente['Tipo Pessoa'].value_counts().plot.bar(color='gray')"
   ]
  },
  {
   "cell_type": "markdown",
   "metadata": {},
   "source": [
    "***Município (Municipality)***"
   ]
  },
  {
   "cell_type": "code",
   "execution_count": 59,
   "metadata": {},
   "outputs": [
    {
     "data": {
      "text/plain": [
       "count           775\n",
       "unique            4\n",
       "top       SAO PAULO\n",
       "freq            366\n",
       "Name: Municipio, dtype: object"
      ]
     },
     "execution_count": 59,
     "metadata": {},
     "output_type": "execute_result"
    }
   ],
   "source": [
    "# Description of the 'Municipality' column\n",
    "df_cliente['Municipio'].describe()"
   ]
  },
  {
   "cell_type": "code",
   "execution_count": 60,
   "metadata": {},
   "outputs": [
    {
     "data": {
      "text/plain": [
       "Municipio\n",
       "SAO PAULO         366\n",
       "RIO DE JANEIRO    197\n",
       "VITÓRIA           144\n",
       "BELO HORIZONTE     68\n",
       "Name: count, dtype: int64"
      ]
     },
     "execution_count": 60,
     "metadata": {},
     "output_type": "execute_result"
    }
   ],
   "source": [
    "# Counting values ​​in Municipality\n",
    "df_cliente['Municipio'].value_counts()"
   ]
  },
  {
   "cell_type": "code",
   "execution_count": 61,
   "metadata": {},
   "outputs": [
    {
     "data": {
      "text/plain": [
       "Municipio\n",
       "SAO PAULO         0.472258\n",
       "RIO DE JANEIRO    0.254194\n",
       "VITÓRIA           0.185806\n",
       "BELO HORIZONTE    0.087742\n",
       "Name: proportion, dtype: float64"
      ]
     },
     "execution_count": 61,
     "metadata": {},
     "output_type": "execute_result"
    }
   ],
   "source": [
    "# Counting values ​​in Municipality (normalized)\n",
    "df_cliente['Municipio'].value_counts(normalize=True)"
   ]
  },
  {
   "cell_type": "code",
   "execution_count": 62,
   "metadata": {},
   "outputs": [
    {
     "data": {
      "text/plain": [
       "<Axes: xlabel='Municipio'>"
      ]
     },
     "execution_count": 62,
     "metadata": {},
     "output_type": "execute_result"
    },
    {
     "data": {
      "image/png": "[encoded data removed]",
      "text/plain": [
       "<Figure size 640x480 with 1 Axes>"
      ]
     },
     "metadata": {},
     "output_type": "display_data"
    }
   ],
   "source": [
    "# Bar chart for Municipality\n",
    "df_cliente['Municipio'].value_counts().plot.bar(color='gray')"
   ]
  },
  {
   "cell_type": "markdown",
   "metadata": {},
   "source": [
    "***UF***"
   ]
  },
  {
   "cell_type": "code",
   "execution_count": 63,
   "metadata": {},
   "outputs": [
    {
     "data": {
      "text/plain": [
       "count           775\n",
       "unique            4\n",
       "top       SÃO PAULO\n",
       "freq            366\n",
       "Name: UF, dtype: object"
      ]
     },
     "execution_count": 63,
     "metadata": {},
     "output_type": "execute_result"
    }
   ],
   "source": [
    "# UF column description\n",
    "df_cliente['UF'].describe()"
   ]
  },
  {
   "cell_type": "code",
   "execution_count": 64,
   "metadata": {},
   "outputs": [
    {
     "data": {
      "text/plain": [
       "UF\n",
       "SÃO PAULO         366\n",
       "RIO DE JANEIRO    197\n",
       "ESPÍRITO SANTO    144\n",
       "MINAS GERAIS       68\n",
       "Name: count, dtype: int64"
      ]
     },
     "execution_count": 64,
     "metadata": {},
     "output_type": "execute_result"
    }
   ],
   "source": [
    "# Counting values ​​in UF\n",
    "df_cliente['UF'].value_counts()"
   ]
  },
  {
   "cell_type": "code",
   "execution_count": 65,
   "metadata": {},
   "outputs": [
    {
     "data": {
      "text/plain": [
       "UF\n",
       "SÃO PAULO         0.472258\n",
       "RIO DE JANEIRO    0.254194\n",
       "ESPÍRITO SANTO    0.185806\n",
       "MINAS GERAIS      0.087742\n",
       "Name: proportion, dtype: float64"
      ]
     },
     "execution_count": 65,
     "metadata": {},
     "output_type": "execute_result"
    }
   ],
   "source": [
    "# Counting values ​​in UF (normalized)\n",
    "df_cliente['UF'].value_counts(normalize=True)"
   ]
  },
  {
   "cell_type": "code",
   "execution_count": 66,
   "metadata": {},
   "outputs": [
    {
     "data": {
      "text/plain": [
       "<Axes: xlabel='UF'>"
      ]
     },
     "execution_count": 66,
     "metadata": {},
     "output_type": "execute_result"
    },
    {
     "data": {
      "image/png": "[encoded data removed]",
      "text/plain": [
       "<Figure size 640x480 with 1 Axes>"
      ]
     },
     "metadata": {},
     "output_type": "display_data"
    }
   ],
   "source": [
    "# Bar chart for UF\n",
    "df_cliente['UF'].value_counts().plot.bar(color='gray')"
   ]
  },
  {
   "cell_type": "markdown",
   "metadata": {},
   "source": [
    "### 2.2 Fornecedor (Supplier)\n"
   ]
  },
  {
   "cell_type": "code",
   "execution_count": 67,
   "metadata": {},
   "outputs": [
    {
     "data": {
      "text/html": [
       "<div>\n",
       "<style scoped>\n",
       "    .dataframe tbody tr th:only-of-type {\n",
       "        vertical-align: middle;\n",
       "    }\n",
       "\n",
       "    .dataframe tbody tr th {\n",
       "        vertical-align: top;\n",
       "    }\n",
       "\n",
       "    .dataframe thead th {\n",
       "        text-align: right;\n",
       "    }\n",
       "</style>\n",
       "<table border=\"1\" class=\"dataframe\">\n",
       "  <thead>\n",
       "    <tr style=\"text-align: right;\">\n",
       "      <th></th>\n",
       "      <th>Id Fornecedor</th>\n",
       "      <th>Razao Social</th>\n",
       "      <th>Nome Fantasia</th>\n",
       "      <th>Tipo Pessoa</th>\n",
       "      <th>Municipio</th>\n",
       "      <th>UF</th>\n",
       "    </tr>\n",
       "  </thead>\n",
       "  <tbody>\n",
       "    <tr>\n",
       "      <th>0</th>\n",
       "      <td>1</td>\n",
       "      <td>AGROBOI</td>\n",
       "      <td>AGRO BOI IMPORTACAO E EXPORTACAO...</td>\n",
       "      <td>Pessoa Jurídica</td>\n",
       "      <td>RIO DE JANEIRO</td>\n",
       "      <td>RIO DE JANEIRO</td>\n",
       "    </tr>\n",
       "    <tr>\n",
       "      <th>1</th>\n",
       "      <td>2</td>\n",
       "      <td>AGROENERGIA</td>\n",
       "      <td>AGROENERGIA COMERCIALIZADORA...</td>\n",
       "      <td>Pessoa Jurídica</td>\n",
       "      <td>RIO DE JANEIRO</td>\n",
       "      <td>RIO DE JANEIRO</td>\n",
       "    </tr>\n",
       "    <tr>\n",
       "      <th>2</th>\n",
       "      <td>3</td>\n",
       "      <td>AGROGEN DESENVOLVIMENTO</td>\n",
       "      <td>AGROGEN DESENVOLVIMENTO GENETICO...</td>\n",
       "      <td>Pessoa Física</td>\n",
       "      <td>BELO HORIZONTE</td>\n",
       "      <td>MINAS GERAIS</td>\n",
       "    </tr>\n",
       "    <tr>\n",
       "      <th>3</th>\n",
       "      <td>4</td>\n",
       "      <td>AGROINDUSTRIAL</td>\n",
       "      <td>AGROINDUSTRIAL SAO FRANCISCO...</td>\n",
       "      <td>Pessoa Física</td>\n",
       "      <td>RIO DE JANEIRO</td>\n",
       "      <td>RIO DE JANEIRO</td>\n",
       "    </tr>\n",
       "    <tr>\n",
       "      <th>4</th>\n",
       "      <td>5</td>\n",
       "      <td>AGROLEITE</td>\n",
       "      <td>AGROLEITE CABINAS AGRICOLAS...</td>\n",
       "      <td>Pessoa Física</td>\n",
       "      <td>SÃO PAULO</td>\n",
       "      <td>SÃO PAULO</td>\n",
       "    </tr>\n",
       "    <tr>\n",
       "      <th>...</th>\n",
       "      <td>...</td>\n",
       "      <td>...</td>\n",
       "      <td>...</td>\n",
       "      <td>...</td>\n",
       "      <td>...</td>\n",
       "      <td>...</td>\n",
       "    </tr>\n",
       "    <tr>\n",
       "      <th>625</th>\n",
       "      <td>626</td>\n",
       "      <td>AGRO LATINA</td>\n",
       "      <td>AGRO LATINA LTDA</td>\n",
       "      <td>Pessoa Jurídica</td>\n",
       "      <td>VITÓRIA</td>\n",
       "      <td>ESPÍRITO SANTO</td>\n",
       "    </tr>\n",
       "    <tr>\n",
       "      <th>626</th>\n",
       "      <td>627</td>\n",
       "      <td>AGRO PRATINHA</td>\n",
       "      <td>AGROPRATINHA S/A</td>\n",
       "      <td>Pessoa Jurídica</td>\n",
       "      <td>VITÓRIA</td>\n",
       "      <td>ESPÍRITO SANTO</td>\n",
       "    </tr>\n",
       "    <tr>\n",
       "      <th>627</th>\n",
       "      <td>628</td>\n",
       "      <td>AGRO-PERTENCES</td>\n",
       "      <td>INDUSTRIA AGRO-PERTENCES EIRELI</td>\n",
       "      <td>Pessoa Jurídica</td>\n",
       "      <td>VITÓRIA</td>\n",
       "      <td>ESPÍRITO SANTO</td>\n",
       "    </tr>\n",
       "    <tr>\n",
       "      <th>628</th>\n",
       "      <td>629</td>\n",
       "      <td>AGROARACA</td>\n",
       "      <td>AGROARACA INDUSTRIA DE ALIMENTOS...</td>\n",
       "      <td>Pessoa Jurídica</td>\n",
       "      <td>SÃO PAULO</td>\n",
       "      <td>SÃO PAULO</td>\n",
       "    </tr>\n",
       "    <tr>\n",
       "      <th>629</th>\n",
       "      <td>630</td>\n",
       "      <td>AGROAVES LTDA</td>\n",
       "      <td>AGROAVES LTDA</td>\n",
       "      <td>Pessoa Jurídica</td>\n",
       "      <td>SÃO PAULO</td>\n",
       "      <td>SÃO PAULO</td>\n",
       "    </tr>\n",
       "  </tbody>\n",
       "</table>\n",
       "<p>630 rows × 6 columns</p>\n",
       "</div>"
      ],
      "text/plain": [
       "     Id Fornecedor             Razao Social  \\\n",
       "0                1                  AGROBOI   \n",
       "1                2              AGROENERGIA   \n",
       "2                3  AGROGEN DESENVOLVIMENTO   \n",
       "3                4           AGROINDUSTRIAL   \n",
       "4                5                AGROLEITE   \n",
       "..             ...                      ...   \n",
       "625            626              AGRO LATINA   \n",
       "626            627            AGRO PRATINHA   \n",
       "627            628           AGRO-PERTENCES   \n",
       "628            629                AGROARACA   \n",
       "629            630            AGROAVES LTDA   \n",
       "\n",
       "                           Nome Fantasia      Tipo Pessoa       Municipio  \\\n",
       "0    AGRO BOI IMPORTACAO E EXPORTACAO...  Pessoa Jurídica  RIO DE JANEIRO   \n",
       "1        AGROENERGIA COMERCIALIZADORA...  Pessoa Jurídica  RIO DE JANEIRO   \n",
       "2    AGROGEN DESENVOLVIMENTO GENETICO...    Pessoa Física  BELO HORIZONTE   \n",
       "3        AGROINDUSTRIAL SAO FRANCISCO...    Pessoa Física  RIO DE JANEIRO   \n",
       "4         AGROLEITE CABINAS AGRICOLAS...    Pessoa Física       SÃO PAULO   \n",
       "..                                   ...              ...             ...   \n",
       "625                     AGRO LATINA LTDA  Pessoa Jurídica         VITÓRIA   \n",
       "626                     AGROPRATINHA S/A  Pessoa Jurídica         VITÓRIA   \n",
       "627      INDUSTRIA AGRO-PERTENCES EIRELI  Pessoa Jurídica         VITÓRIA   \n",
       "628  AGROARACA INDUSTRIA DE ALIMENTOS...  Pessoa Jurídica       SÃO PAULO   \n",
       "629                        AGROAVES LTDA  Pessoa Jurídica       SÃO PAULO   \n",
       "\n",
       "                 UF  \n",
       "0    RIO DE JANEIRO  \n",
       "1    RIO DE JANEIRO  \n",
       "2      MINAS GERAIS  \n",
       "3    RIO DE JANEIRO  \n",
       "4         SÃO PAULO  \n",
       "..              ...  \n",
       "625  ESPÍRITO SANTO  \n",
       "626  ESPÍRITO SANTO  \n",
       "627  ESPÍRITO SANTO  \n",
       "628       SÃO PAULO  \n",
       "629       SÃO PAULO  \n",
       "\n",
       "[630 rows x 6 columns]"
      ]
     },
     "execution_count": 67,
     "metadata": {},
     "output_type": "execute_result"
    }
   ],
   "source": [
    "# Viewing the Supplier table\n",
    "df_fornecedor"
   ]
  },
  {
   "cell_type": "code",
   "execution_count": 68,
   "metadata": {},
   "outputs": [
    {
     "data": {
      "text/plain": [
       "Id Fornecedor    0\n",
       "Razao Social     0\n",
       "Nome Fantasia    0\n",
       "Tipo Pessoa      0\n",
       "Municipio        0\n",
       "UF               0\n",
       "dtype: int64"
      ]
     },
     "execution_count": 68,
     "metadata": {},
     "output_type": "execute_result"
    }
   ],
   "source": [
    "# Checking for null values\n",
    "df_fornecedor.isnull().sum()"
   ]
  },
  {
   "cell_type": "markdown",
   "metadata": {},
   "source": [
    "***Razao Social (Company name)***"
   ]
  },
  {
   "cell_type": "code",
   "execution_count": 69,
   "metadata": {},
   "outputs": [
    {
     "data": {
      "text/plain": [
       "count               630\n",
       "unique              630\n",
       "top       AGROAVES LTDA\n",
       "freq                  1\n",
       "Name: Razao Social, dtype: object"
      ]
     },
     "execution_count": 69,
     "metadata": {},
     "output_type": "execute_result"
    }
   ],
   "source": [
    "# Description of the 'company name' column\n",
    "df_fornecedor['Razao Social'].describe()"
   ]
  },
  {
   "cell_type": "markdown",
   "metadata": {},
   "source": [
    "***Nome Fantasia (Trade name)***"
   ]
  },
  {
   "cell_type": "code",
   "execution_count": 70,
   "metadata": {},
   "outputs": [
    {
     "data": {
      "text/plain": [
       "count                               630\n",
       "unique                              598\n",
       "top       LIDER COMERCIO E INDUSTRIA...\n",
       "freq                                  9\n",
       "Name: Nome Fantasia, dtype: object"
      ]
     },
     "execution_count": 70,
     "metadata": {},
     "output_type": "execute_result"
    }
   ],
   "source": [
    "# Description of the Trade Name column\n",
    "df_fornecedor['Nome Fantasia'].describe()"
   ]
  },
  {
   "cell_type": "code",
   "execution_count": 71,
   "metadata": {},
   "outputs": [
    {
     "data": {
      "text/plain": [
       "np.int64(32)"
      ]
     },
     "execution_count": 71,
     "metadata": {},
     "output_type": "execute_result"
    }
   ],
   "source": [
    "# Checking for duplicates\n",
    "df_fornecedor['Nome Fantasia'].duplicated().sum()"
   ]
  },
  {
   "cell_type": "code",
   "execution_count": 72,
   "metadata": {},
   "outputs": [
    {
     "name": "stdout",
     "output_type": "stream",
     "text": [
      "Nome Fantasia\n",
      "LIDER COMERCIO E INDUSTRIA...            9\n",
      "NOTARO ALIMENTOS LTDA                    6\n",
      "UNILEVER BRASIL INDUSTRIAL...            5\n",
      "VIDEOLAR-INNOVA S/A                      3\n",
      "BEMIS DO BRASIL INDUSTRIA...             2\n",
      "HOSPITAL E MATERNIDADE SANTA...          2\n",
      "A. R. C. LOGISTICA E ALIMENTOS...        2\n",
      "DESTRO BRASIL DISTRIBUICAO...            2\n",
      "USINA DE ENERGIA EOLICA CARCARA...       2\n",
      "REPINHO REFLORESTADORA MADEIRAS...       2\n",
      "CENTRAL GERADORA HIDRELETRICA...         2\n",
      "CONDOMINIO OPERACIONAL VIASHOPPING...    2\n",
      "VESUVIUS REFRATARIOS LTDA                2\n",
      "UNILEVER BRASIL LTDA.                    2\n",
      "UNIMED DE BAURU COOPERATIVA...           2\n",
      "INBRASP - INDUSTRIA BRASILEIRA...        2\n",
      "BELLO ALIMENTOS LTDA                     2\n",
      "Name: count, dtype: int64\n"
     ]
    }
   ],
   "source": [
    "# Filter duplicate rows in the 'Trade Name' column\n",
    "duplicates = df_fornecedor[df_fornecedor.duplicated(subset=['Nome Fantasia'], keep=False)]\n",
    "# Display duplicate values\n",
    "print(duplicates['Nome Fantasia'].value_counts())"
   ]
  },
  {
   "cell_type": "code",
   "execution_count": 73,
   "metadata": {},
   "outputs": [
    {
     "name": "stdout",
     "output_type": "stream",
     "text": [
      "Qtd de valores duplicados: 0\n"
     ]
    }
   ],
   "source": [
    "# Remove duplicates\n",
    "df_fornecedor.drop_duplicates(subset=['Nome Fantasia'], keep='first', inplace=True)\n",
    "# Check if duplicates have been removed\n",
    "print('Qtd de valores duplicados:', df_fornecedor['Nome Fantasia'].duplicated().sum())"
   ]
  },
  {
   "cell_type": "markdown",
   "metadata": {},
   "source": [
    "***Tipo Pessoa (Person Type)***"
   ]
  },
  {
   "cell_type": "code",
   "execution_count": 74,
   "metadata": {},
   "outputs": [
    {
     "data": {
      "text/plain": [
       "count               598\n",
       "unique                2\n",
       "top       Pessoa Física\n",
       "freq                521\n",
       "Name: Tipo Pessoa, dtype: object"
      ]
     },
     "execution_count": 74,
     "metadata": {},
     "output_type": "execute_result"
    }
   ],
   "source": [
    "# Description of the 'Person Type' column\n",
    "df_fornecedor['Tipo Pessoa'].describe()"
   ]
  },
  {
   "cell_type": "code",
   "execution_count": 75,
   "metadata": {},
   "outputs": [
    {
     "data": {
      "text/plain": [
       "Tipo Pessoa\n",
       "Pessoa Física      521\n",
       "Pessoa Jurídica     77\n",
       "Name: count, dtype: int64"
      ]
     },
     "execution_count": 75,
     "metadata": {},
     "output_type": "execute_result"
    }
   ],
   "source": [
    "# Counting values ​​in Person Type\n",
    "df_fornecedor['Tipo Pessoa'].value_counts()"
   ]
  },
  {
   "cell_type": "code",
   "execution_count": 76,
   "metadata": {},
   "outputs": [
    {
     "data": {
      "text/plain": [
       "Tipo Pessoa\n",
       "Pessoa Física      0.871237\n",
       "Pessoa Jurídica    0.128763\n",
       "Name: proportion, dtype: float64"
      ]
     },
     "execution_count": 76,
     "metadata": {},
     "output_type": "execute_result"
    }
   ],
   "source": [
    "# Counting values ​​in Person Type (normalized)\n",
    "df_fornecedor['Tipo Pessoa'].value_counts(normalize=True)"
   ]
  },
  {
   "cell_type": "code",
   "execution_count": 77,
   "metadata": {},
   "outputs": [
    {
     "data": {
      "text/plain": [
       "<Axes: xlabel='Tipo Pessoa'>"
      ]
     },
     "execution_count": 77,
     "metadata": {},
     "output_type": "execute_result"
    },
    {
     "data": {
      "image/png": "[encoded data removed]",
      "text/plain": [
       "<Figure size 640x480 with 1 Axes>"
      ]
     },
     "metadata": {},
     "output_type": "display_data"
    }
   ],
   "source": [
    "# Bar Chart for Person Type\n",
    "df_fornecedor['Tipo Pessoa'].value_counts().plot.bar(color='gray')"
   ]
  },
  {
   "cell_type": "markdown",
   "metadata": {},
   "source": [
    "***Municipio (Municipality)***"
   ]
  },
  {
   "cell_type": "code",
   "execution_count": 78,
   "metadata": {},
   "outputs": [
    {
     "data": {
      "text/plain": [
       "count           598\n",
       "unique            4\n",
       "top       SÃO PAULO\n",
       "freq            371\n",
       "Name: Municipio, dtype: object"
      ]
     },
     "execution_count": 78,
     "metadata": {},
     "output_type": "execute_result"
    }
   ],
   "source": [
    "# Description of the 'Municipality' column\n",
    "df_fornecedor['Municipio'].describe()"
   ]
  },
  {
   "cell_type": "code",
   "execution_count": 79,
   "metadata": {},
   "outputs": [
    {
     "data": {
      "text/plain": [
       "Municipio\n",
       "SÃO PAULO         371\n",
       "RIO DE JANEIRO    122\n",
       "BELO HORIZONTE     53\n",
       "VITÓRIA            52\n",
       "Name: count, dtype: int64"
      ]
     },
     "execution_count": 79,
     "metadata": {},
     "output_type": "execute_result"
    }
   ],
   "source": [
    "# Counting values ​​in Municipality\n",
    "df_fornecedor['Municipio'].value_counts()"
   ]
  },
  {
   "cell_type": "code",
   "execution_count": 80,
   "metadata": {},
   "outputs": [
    {
     "data": {
      "text/plain": [
       "Municipio\n",
       "SÃO PAULO         0.620401\n",
       "RIO DE JANEIRO    0.204013\n",
       "BELO HORIZONTE    0.088629\n",
       "VITÓRIA           0.086957\n",
       "Name: proportion, dtype: float64"
      ]
     },
     "execution_count": 80,
     "metadata": {},
     "output_type": "execute_result"
    }
   ],
   "source": [
    "# Counting values ​​in Municipality (normalized)\n",
    "df_fornecedor['Municipio'].value_counts(normalize=True)"
   ]
  },
  {
   "cell_type": "code",
   "execution_count": 81,
   "metadata": {},
   "outputs": [
    {
     "data": {
      "text/plain": [
       "<Axes: xlabel='Municipio'>"
      ]
     },
     "execution_count": 81,
     "metadata": {},
     "output_type": "execute_result"
    },
    {
     "data": {
      "image/png": "[encoded data removed]",
      "text/plain": [
       "<Figure size 640x480 with 1 Axes>"
      ]
     },
     "metadata": {},
     "output_type": "display_data"
    }
   ],
   "source": [
    "# Bar chart for Municipality\n",
    "df_fornecedor['Municipio'].value_counts().plot.bar(color='gray')"
   ]
  },
  {
   "cell_type": "markdown",
   "metadata": {},
   "source": [
    "***UF***"
   ]
  },
  {
   "cell_type": "code",
   "execution_count": 82,
   "metadata": {},
   "outputs": [
    {
     "data": {
      "text/plain": [
       "count           598\n",
       "unique            4\n",
       "top       SÃO PAULO\n",
       "freq            371\n",
       "Name: UF, dtype: object"
      ]
     },
     "execution_count": 82,
     "metadata": {},
     "output_type": "execute_result"
    }
   ],
   "source": [
    "# UF column description\n",
    "df_fornecedor['UF'].describe()"
   ]
  },
  {
   "cell_type": "code",
   "execution_count": 83,
   "metadata": {},
   "outputs": [
    {
     "data": {
      "text/plain": [
       "UF\n",
       "SÃO PAULO         371\n",
       "RIO DE JANEIRO    122\n",
       "MINAS GERAIS       53\n",
       "ESPÍRITO SANTO     52\n",
       "Name: count, dtype: int64"
      ]
     },
     "execution_count": 83,
     "metadata": {},
     "output_type": "execute_result"
    }
   ],
   "source": [
    "# Counting values ​​in UF\n",
    "df_fornecedor['UF'].value_counts()"
   ]
  },
  {
   "cell_type": "code",
   "execution_count": 84,
   "metadata": {},
   "outputs": [
    {
     "data": {
      "text/plain": [
       "UF\n",
       "SÃO PAULO         0.620401\n",
       "RIO DE JANEIRO    0.204013\n",
       "MINAS GERAIS      0.088629\n",
       "ESPÍRITO SANTO    0.086957\n",
       "Name: proportion, dtype: float64"
      ]
     },
     "execution_count": 84,
     "metadata": {},
     "output_type": "execute_result"
    }
   ],
   "source": [
    "# Counting values ​​in UF (normalized)\n",
    "df_fornecedor['UF'].value_counts(normalize=True)"
   ]
  },
  {
   "cell_type": "code",
   "execution_count": 85,
   "metadata": {},
   "outputs": [
    {
     "data": {
      "text/plain": [
       "<Axes: xlabel='UF'>"
      ]
     },
     "execution_count": 85,
     "metadata": {},
     "output_type": "execute_result"
    },
    {
     "data": {
      "image/png": "[encoded data removed]",
      "text/plain": [
       "<Figure size 640x480 with 1 Axes>"
      ]
     },
     "metadata": {},
     "output_type": "display_data"
    }
   ],
   "source": [
    "# Bar chart for UF\n",
    "df_fornecedor['UF'].value_counts().plot.bar(color='gray')"
   ]
  },
  {
   "cell_type": "markdown",
   "metadata": {},
   "source": [
    "### 2.3 Banco (Bank)"
   ]
  },
  {
   "cell_type": "code",
   "execution_count": 86,
   "metadata": {},
   "outputs": [
    {
     "data": {
      "text/html": [
       "<div>\n",
       "<style scoped>\n",
       "    .dataframe tbody tr th:only-of-type {\n",
       "        vertical-align: middle;\n",
       "    }\n",
       "\n",
       "    .dataframe tbody tr th {\n",
       "        vertical-align: top;\n",
       "    }\n",
       "\n",
       "    .dataframe thead th {\n",
       "        text-align: right;\n",
       "    }\n",
       "</style>\n",
       "<table border=\"1\" class=\"dataframe\">\n",
       "  <thead>\n",
       "    <tr style=\"text-align: right;\">\n",
       "      <th></th>\n",
       "      <th>Id Banco</th>\n",
       "      <th>Id Conta Bancária</th>\n",
       "      <th>Nome Banco</th>\n",
       "      <th>Município</th>\n",
       "      <th>UF</th>\n",
       "    </tr>\n",
       "  </thead>\n",
       "  <tbody>\n",
       "    <tr>\n",
       "      <th>0</th>\n",
       "      <td>1</td>\n",
       "      <td>x 14057272557-06</td>\n",
       "      <td>BANCO DO BRASIL - SAO PAULO</td>\n",
       "      <td>SAO PAULO</td>\n",
       "      <td>SÃO PAULO</td>\n",
       "    </tr>\n",
       "    <tr>\n",
       "      <th>1</th>\n",
       "      <td>2</td>\n",
       "      <td>x 22208151256-06</td>\n",
       "      <td>ITAÚ - SAO PAULO</td>\n",
       "      <td>SAO PAULO</td>\n",
       "      <td>SÃO PAULO</td>\n",
       "    </tr>\n",
       "    <tr>\n",
       "      <th>2</th>\n",
       "      <td>3</td>\n",
       "      <td>x 41541621975-04</td>\n",
       "      <td>BRADESCO - SAO PAULO</td>\n",
       "      <td>SAO PAULO</td>\n",
       "      <td>SÃO PAULO</td>\n",
       "    </tr>\n",
       "    <tr>\n",
       "      <th>3</th>\n",
       "      <td>4</td>\n",
       "      <td>x 64252401479-03</td>\n",
       "      <td>SANTANDER - SAO PAULO</td>\n",
       "      <td>SAO PAULO</td>\n",
       "      <td>SÃO PAULO</td>\n",
       "    </tr>\n",
       "    <tr>\n",
       "      <th>4</th>\n",
       "      <td>5</td>\n",
       "      <td>x 77167377617-02</td>\n",
       "      <td>HSBC - SAO PAULO</td>\n",
       "      <td>SAO PAULO</td>\n",
       "      <td>SÃO PAULO</td>\n",
       "    </tr>\n",
       "    <tr>\n",
       "      <th>5</th>\n",
       "      <td>6</td>\n",
       "      <td>x 10859524552-06</td>\n",
       "      <td>BANCO SAFRA - SAO PAULO</td>\n",
       "      <td>SAO PAULO</td>\n",
       "      <td>SÃO PAULO</td>\n",
       "    </tr>\n",
       "    <tr>\n",
       "      <th>6</th>\n",
       "      <td>7</td>\n",
       "      <td>x 26759470396-10</td>\n",
       "      <td>BANCO DO BRASIL - RIO DE JANEIRO</td>\n",
       "      <td>RIO DE JANEIRO</td>\n",
       "      <td>RIO DE JANEIRO</td>\n",
       "    </tr>\n",
       "    <tr>\n",
       "      <th>7</th>\n",
       "      <td>8</td>\n",
       "      <td>x 25497925389-08</td>\n",
       "      <td>ITAÚ - RIO DE JANEIRO</td>\n",
       "      <td>RIO DE JANEIRO</td>\n",
       "      <td>RIO DE JANEIRO</td>\n",
       "    </tr>\n",
       "    <tr>\n",
       "      <th>8</th>\n",
       "      <td>9</td>\n",
       "      <td>x 61320183682-00</td>\n",
       "      <td>BRADESCO - RIO DE JANEIRO</td>\n",
       "      <td>RIO DE JANEIRO</td>\n",
       "      <td>RIO DE JANEIRO</td>\n",
       "    </tr>\n",
       "    <tr>\n",
       "      <th>9</th>\n",
       "      <td>10</td>\n",
       "      <td>x 63718177635-06</td>\n",
       "      <td>SANTANDER - RIO DE JANEIRO</td>\n",
       "      <td>RIO DE JANEIRO</td>\n",
       "      <td>RIO DE JANEIRO</td>\n",
       "    </tr>\n",
       "    <tr>\n",
       "      <th>10</th>\n",
       "      <td>11</td>\n",
       "      <td>x 57767778949-09</td>\n",
       "      <td>HSBC - RIO DE JANEIRO</td>\n",
       "      <td>RIO DE JANEIRO</td>\n",
       "      <td>RIO DE JANEIRO</td>\n",
       "    </tr>\n",
       "    <tr>\n",
       "      <th>11</th>\n",
       "      <td>12</td>\n",
       "      <td>x 32439935907-10</td>\n",
       "      <td>BANCO SAFRA - RIO DE JANEIRO</td>\n",
       "      <td>RIO DE JANEIRO</td>\n",
       "      <td>RIO DE JANEIRO</td>\n",
       "    </tr>\n",
       "    <tr>\n",
       "      <th>12</th>\n",
       "      <td>13</td>\n",
       "      <td>x 14599123731-03</td>\n",
       "      <td>BANCO DO BRASIL - VITÓRIA</td>\n",
       "      <td>VITÓRIA</td>\n",
       "      <td>ESPÍRITO SANTO</td>\n",
       "    </tr>\n",
       "    <tr>\n",
       "      <th>13</th>\n",
       "      <td>14</td>\n",
       "      <td>x 61586581630-06</td>\n",
       "      <td>ITAÚ - VITÓRIA</td>\n",
       "      <td>VITÓRIA</td>\n",
       "      <td>ESPÍRITO SANTO</td>\n",
       "    </tr>\n",
       "    <tr>\n",
       "      <th>14</th>\n",
       "      <td>15</td>\n",
       "      <td>x 86791017985-09</td>\n",
       "      <td>BRADESCO - VITÓRIA</td>\n",
       "      <td>VITÓRIA</td>\n",
       "      <td>ESPÍRITO SANTO</td>\n",
       "    </tr>\n",
       "    <tr>\n",
       "      <th>15</th>\n",
       "      <td>16</td>\n",
       "      <td>x 25455392583-10</td>\n",
       "      <td>SANTANDER - VITÓRIA</td>\n",
       "      <td>VITÓRIA</td>\n",
       "      <td>ESPÍRITO SANTO</td>\n",
       "    </tr>\n",
       "    <tr>\n",
       "      <th>16</th>\n",
       "      <td>17</td>\n",
       "      <td>x 39315597929-00</td>\n",
       "      <td>HSBC - VITÓRIA</td>\n",
       "      <td>VITÓRIA</td>\n",
       "      <td>ESPÍRITO SANTO</td>\n",
       "    </tr>\n",
       "    <tr>\n",
       "      <th>17</th>\n",
       "      <td>18</td>\n",
       "      <td>x 80771218846-00</td>\n",
       "      <td>BANCO SAFRA - VITÓRIA</td>\n",
       "      <td>VITÓRIA</td>\n",
       "      <td>ESPÍRITO SANTO</td>\n",
       "    </tr>\n",
       "    <tr>\n",
       "      <th>18</th>\n",
       "      <td>19</td>\n",
       "      <td>x 29486015020-04</td>\n",
       "      <td>BANCO DO BRASIL - BELO HORIZONTE</td>\n",
       "      <td>BELO HORIZONTE</td>\n",
       "      <td>MINAS GERAIS</td>\n",
       "    </tr>\n",
       "    <tr>\n",
       "      <th>19</th>\n",
       "      <td>20</td>\n",
       "      <td>x 10641176832-10</td>\n",
       "      <td>ITAÚ - BELO HORIZONTE</td>\n",
       "      <td>BELO HORIZONTE</td>\n",
       "      <td>MINAS GERAIS</td>\n",
       "    </tr>\n",
       "    <tr>\n",
       "      <th>20</th>\n",
       "      <td>21</td>\n",
       "      <td>x 95230728368-03</td>\n",
       "      <td>BRADESCO - BELO HORIZONTE</td>\n",
       "      <td>BELO HORIZONTE</td>\n",
       "      <td>MINAS GERAIS</td>\n",
       "    </tr>\n",
       "    <tr>\n",
       "      <th>21</th>\n",
       "      <td>22</td>\n",
       "      <td>x 75664985359-06</td>\n",
       "      <td>SANTANDER - BELO HORIZONTE</td>\n",
       "      <td>BELO HORIZONTE</td>\n",
       "      <td>MINAS GERAIS</td>\n",
       "    </tr>\n",
       "    <tr>\n",
       "      <th>22</th>\n",
       "      <td>23</td>\n",
       "      <td>x 50292624232-07</td>\n",
       "      <td>HSBC - BELO HORIZONTE</td>\n",
       "      <td>BELO HORIZONTE</td>\n",
       "      <td>MINAS GERAIS</td>\n",
       "    </tr>\n",
       "    <tr>\n",
       "      <th>23</th>\n",
       "      <td>24</td>\n",
       "      <td>x 94994947160-08</td>\n",
       "      <td>BANCO SAFRA - BELO HORIZONTE</td>\n",
       "      <td>BELO HORIZONTE</td>\n",
       "      <td>MINAS GERAIS</td>\n",
       "    </tr>\n",
       "  </tbody>\n",
       "</table>\n",
       "</div>"
      ],
      "text/plain": [
       "    Id Banco Id Conta Bancária                        Nome Banco  \\\n",
       "0          1  x 14057272557-06       BANCO DO BRASIL - SAO PAULO   \n",
       "1          2  x 22208151256-06                  ITAÚ - SAO PAULO   \n",
       "2          3  x 41541621975-04              BRADESCO - SAO PAULO   \n",
       "3          4  x 64252401479-03             SANTANDER - SAO PAULO   \n",
       "4          5  x 77167377617-02                  HSBC - SAO PAULO   \n",
       "5          6  x 10859524552-06           BANCO SAFRA - SAO PAULO   \n",
       "6          7  x 26759470396-10  BANCO DO BRASIL - RIO DE JANEIRO   \n",
       "7          8  x 25497925389-08             ITAÚ - RIO DE JANEIRO   \n",
       "8          9  x 61320183682-00         BRADESCO - RIO DE JANEIRO   \n",
       "9         10  x 63718177635-06        SANTANDER - RIO DE JANEIRO   \n",
       "10        11  x 57767778949-09             HSBC - RIO DE JANEIRO   \n",
       "11        12  x 32439935907-10      BANCO SAFRA - RIO DE JANEIRO   \n",
       "12        13  x 14599123731-03         BANCO DO BRASIL - VITÓRIA   \n",
       "13        14  x 61586581630-06                    ITAÚ - VITÓRIA   \n",
       "14        15  x 86791017985-09                BRADESCO - VITÓRIA   \n",
       "15        16  x 25455392583-10               SANTANDER - VITÓRIA   \n",
       "16        17  x 39315597929-00                    HSBC - VITÓRIA   \n",
       "17        18  x 80771218846-00             BANCO SAFRA - VITÓRIA   \n",
       "18        19  x 29486015020-04  BANCO DO BRASIL - BELO HORIZONTE   \n",
       "19        20  x 10641176832-10             ITAÚ - BELO HORIZONTE   \n",
       "20        21  x 95230728368-03         BRADESCO - BELO HORIZONTE   \n",
       "21        22  x 75664985359-06        SANTANDER - BELO HORIZONTE   \n",
       "22        23  x 50292624232-07             HSBC - BELO HORIZONTE   \n",
       "23        24  x 94994947160-08      BANCO SAFRA - BELO HORIZONTE   \n",
       "\n",
       "         Município              UF  \n",
       "0        SAO PAULO       SÃO PAULO  \n",
       "1        SAO PAULO       SÃO PAULO  \n",
       "2        SAO PAULO       SÃO PAULO  \n",
       "3        SAO PAULO       SÃO PAULO  \n",
       "4        SAO PAULO       SÃO PAULO  \n",
       "5        SAO PAULO       SÃO PAULO  \n",
       "6   RIO DE JANEIRO  RIO DE JANEIRO  \n",
       "7   RIO DE JANEIRO  RIO DE JANEIRO  \n",
       "8   RIO DE JANEIRO  RIO DE JANEIRO  \n",
       "9   RIO DE JANEIRO  RIO DE JANEIRO  \n",
       "10  RIO DE JANEIRO  RIO DE JANEIRO  \n",
       "11  RIO DE JANEIRO  RIO DE JANEIRO  \n",
       "12         VITÓRIA  ESPÍRITO SANTO  \n",
       "13         VITÓRIA  ESPÍRITO SANTO  \n",
       "14         VITÓRIA  ESPÍRITO SANTO  \n",
       "15         VITÓRIA  ESPÍRITO SANTO  \n",
       "16         VITÓRIA  ESPÍRITO SANTO  \n",
       "17         VITÓRIA  ESPÍRITO SANTO  \n",
       "18  BELO HORIZONTE    MINAS GERAIS  \n",
       "19  BELO HORIZONTE    MINAS GERAIS  \n",
       "20  BELO HORIZONTE    MINAS GERAIS  \n",
       "21  BELO HORIZONTE    MINAS GERAIS  \n",
       "22  BELO HORIZONTE    MINAS GERAIS  \n",
       "23  BELO HORIZONTE    MINAS GERAIS  "
      ]
     },
     "execution_count": 86,
     "metadata": {},
     "output_type": "execute_result"
    }
   ],
   "source": [
    "# Viewing the Bank table\n",
    "df_banco"
   ]
  },
  {
   "cell_type": "code",
   "execution_count": 87,
   "metadata": {},
   "outputs": [
    {
     "data": {
      "text/plain": [
       "Id Banco             0\n",
       "Id Conta Bancária    0\n",
       "Nome Banco           0\n",
       "Município            0\n",
       "UF                   0\n",
       "dtype: int64"
      ]
     },
     "execution_count": 87,
     "metadata": {},
     "output_type": "execute_result"
    }
   ],
   "source": [
    "# Checking for null values\n",
    "df_banco.isnull().sum()"
   ]
  },
  {
   "cell_type": "markdown",
   "metadata": {},
   "source": [
    "***Nome Banco (Bank name)***"
   ]
  },
  {
   "cell_type": "code",
   "execution_count": 88,
   "metadata": {},
   "outputs": [
    {
     "data": {
      "text/plain": [
       "count                  24\n",
       "unique                  6\n",
       "top       BANCO DO BRASIL\n",
       "freq                    4\n",
       "Name: Nome Banco, dtype: object"
      ]
     },
     "execution_count": 88,
     "metadata": {},
     "output_type": "execute_result"
    }
   ],
   "source": [
    "# Removing the description of the bank name\n",
    "df_banco['Nome Banco'] = df_banco['Nome Banco'].str.split(' - ').str[0]\n",
    "# Checking the result\n",
    "df_banco['Nome Banco'].describe()"
   ]
  },
  {
   "cell_type": "code",
   "execution_count": 89,
   "metadata": {},
   "outputs": [
    {
     "data": {
      "text/plain": [
       "Nome Banco\n",
       "BANCO DO BRASIL    4\n",
       "ITAÚ               4\n",
       "BRADESCO           4\n",
       "SANTANDER          4\n",
       "HSBC               4\n",
       "BANCO SAFRA        4\n",
       "Name: count, dtype: int64"
      ]
     },
     "execution_count": 89,
     "metadata": {},
     "output_type": "execute_result"
    }
   ],
   "source": [
    "# Counting values ​​in the Bank Name column\n",
    "df_banco['Nome Banco'].value_counts()"
   ]
  },
  {
   "cell_type": "code",
   "execution_count": 90,
   "metadata": {},
   "outputs": [
    {
     "data": {
      "text/plain": [
       "Nome Banco\n",
       "BANCO DO BRASIL    0.166667\n",
       "ITAÚ               0.166667\n",
       "BRADESCO           0.166667\n",
       "SANTANDER          0.166667\n",
       "HSBC               0.166667\n",
       "BANCO SAFRA        0.166667\n",
       "Name: proportion, dtype: float64"
      ]
     },
     "execution_count": 90,
     "metadata": {},
     "output_type": "execute_result"
    }
   ],
   "source": [
    "# Counting values ​​in the Bank Name column (normalized)\n",
    "df_banco['Nome Banco'].value_counts(normalize=True)"
   ]
  },
  {
   "cell_type": "markdown",
   "metadata": {},
   "source": [
    "***Município (Municipality)***"
   ]
  },
  {
   "cell_type": "code",
   "execution_count": 91,
   "metadata": {},
   "outputs": [
    {
     "data": {
      "text/plain": [
       "count            24\n",
       "unique            4\n",
       "top       SAO PAULO\n",
       "freq              6\n",
       "Name: Município, dtype: object"
      ]
     },
     "execution_count": 91,
     "metadata": {},
     "output_type": "execute_result"
    }
   ],
   "source": [
    "# Bank description \n",
    "df_banco['Município'].describe()"
   ]
  },
  {
   "cell_type": "code",
   "execution_count": 92,
   "metadata": {},
   "outputs": [
    {
     "data": {
      "text/plain": [
       "Município\n",
       "SAO PAULO         6\n",
       "RIO DE JANEIRO    6\n",
       "VITÓRIA           6\n",
       "BELO HORIZONTE    6\n",
       "Name: count, dtype: int64"
      ]
     },
     "execution_count": 92,
     "metadata": {},
     "output_type": "execute_result"
    }
   ],
   "source": [
    "# Counting values ​​in Municipality\n",
    "df_banco['Município'].value_counts()"
   ]
  },
  {
   "cell_type": "code",
   "execution_count": 93,
   "metadata": {},
   "outputs": [
    {
     "data": {
      "text/plain": [
       "Município\n",
       "SAO PAULO         0.25\n",
       "RIO DE JANEIRO    0.25\n",
       "VITÓRIA           0.25\n",
       "BELO HORIZONTE    0.25\n",
       "Name: proportion, dtype: float64"
      ]
     },
     "execution_count": 93,
     "metadata": {},
     "output_type": "execute_result"
    }
   ],
   "source": [
    "# Counting values ​​in Municipality (normalized)\n",
    "df_banco['Município'].value_counts(normalize=True)"
   ]
  },
  {
   "cell_type": "markdown",
   "metadata": {},
   "source": [
    "***UF***"
   ]
  },
  {
   "cell_type": "code",
   "execution_count": 94,
   "metadata": {},
   "outputs": [
    {
     "data": {
      "text/plain": [
       "count            24\n",
       "unique            4\n",
       "top       SÃO PAULO\n",
       "freq              6\n",
       "Name: UF, dtype: object"
      ]
     },
     "execution_count": 94,
     "metadata": {},
     "output_type": "execute_result"
    }
   ],
   "source": [
    "# UF\n",
    "df_banco['UF'].describe()"
   ]
  },
  {
   "cell_type": "code",
   "execution_count": 95,
   "metadata": {},
   "outputs": [
    {
     "data": {
      "text/plain": [
       "UF\n",
       "SÃO PAULO         6\n",
       "RIO DE JANEIRO    6\n",
       "ESPÍRITO SANTO    6\n",
       "MINAS GERAIS      6\n",
       "Name: count, dtype: int64"
      ]
     },
     "execution_count": 95,
     "metadata": {},
     "output_type": "execute_result"
    }
   ],
   "source": [
    "# Counting values ​​in UF\n",
    "df_banco['UF'].value_counts()"
   ]
  },
  {
   "cell_type": "code",
   "execution_count": 96,
   "metadata": {},
   "outputs": [
    {
     "data": {
      "text/plain": [
       "UF\n",
       "SÃO PAULO         0.25\n",
       "RIO DE JANEIRO    0.25\n",
       "ESPÍRITO SANTO    0.25\n",
       "MINAS GERAIS      0.25\n",
       "Name: proportion, dtype: float64"
      ]
     },
     "execution_count": 96,
     "metadata": {},
     "output_type": "execute_result"
    }
   ],
   "source": [
    "# Counting values ​​in UF (normalized)\n",
    "df_banco['UF'].value_counts(normalize=True)"
   ]
  },
  {
   "cell_type": "markdown",
   "metadata": {},
   "source": [
    "## Updating the database"
   ]
  },
  {
   "cell_type": "code",
   "execution_count": 97,
   "metadata": {},
   "outputs": [
    {
     "name": "stdout",
     "output_type": "stream",
     "text": [
      "Cópia de segurança criada em: .\\BaseFinanceiro\\Financeiro_backup.xlsx\n"
     ]
    }
   ],
   "source": [
    "# Definir o caminho do arquivo de backup\n",
    "backup_path = '.\\\\BaseFinanceiro\\\\Financeiro_backup.xlsx'\n",
    "\n",
    "# Criar uma cópia de segurança do arquivo original\n",
    "shutil.copy(file_path, backup_path)\n",
    "print(f\"Cópia de segurança criada em: {backup_path}\")"
   ]
  },
  {
   "cell_type": "code",
   "execution_count": null,
   "metadata": {},
   "outputs": [
    {
     "name": "stdout",
     "output_type": "stream",
     "text": [
      "File updated successfully!\n"
     ]
    }
   ],
   "source": [
    "# Update the original file with the modified data\n",
    "with pd.ExcelWriter(file_path) as writer:\n",
    "    for sheet_name, df in dataset.items():\n",
    "        df.to_excel(writer, sheet_name=sheet_name, index=False)\n",
    "print(\"File updated successfully!\")\n",
    "\n",
    "# Option to restore the original file (uncomment to execute)\n",
    "\n",
    "# shutil.copy(backup_path, file_path)\n",
    "# print(\"Original file restored successfully!\")\n",
    "\n",
    "# # Verify the restored file\n",
    "# df_restaurado = pd.read_excel(file_path)\n",
    "# print(df_restaurado.head())"
   ]
  }
 ],
 "metadata": {
  "kernelspec": {
   "display_name": "venv",
   "language": "python",
   "name": "python3"
  },
  "language_info": {
   "codemirror_mode": {
    "name": "ipython",
    "version": 3
   },
   "file_extension": ".py",
   "mimetype": "text/x-python",
   "name": "python",
   "nbconvert_exporter": "python",
   "pygments_lexer": "ipython3",
   "version": "3.13.0"
  }
 },
 "nbformat": 4,
 "nbformat_minor": 2
}
